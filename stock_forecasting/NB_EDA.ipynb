{
 "cells": [
  {
   "cell_type": "markdown",
   "metadata": {},
   "source": [
    "# Exploratory Data Analysis"
   ]
  },
  {
   "cell_type": "markdown",
   "metadata": {},
   "source": [
    "## Requirements"
   ]
  },
  {
   "cell_type": "code",
   "execution_count": 324,
   "metadata": {},
   "outputs": [],
   "source": [
    "#load necesary libraries\n",
    "import pandas as pd\n",
    "import os\n",
    "import csv\n",
    "import glob\n",
    "import random\n",
    "\n",
    "from datetime import datetime, timedelta\n",
    "\n",
    "import matplotlib.pyplot as plt \n",
    "\n",
    "from matplotlib.backends.backend_pdf import PdfPages\n",
    "\n",
    "from statsmodels.tsa.seasonal import seasonal_decompose"
   ]
  },
  {
   "cell_type": "markdown",
   "metadata": {},
   "source": [
    "## For all stocks"
   ]
  },
  {
   "cell_type": "code",
   "execution_count": 290,
   "metadata": {},
   "outputs": [],
   "source": [
    "csv_path = \"../stock_forecasting/stock_data/Compiled/all_stocks_2006-01-01_to_2018-01-01.csv\"\n",
    "df = pd.read_csv(csv_path)"
   ]
  },
  {
   "cell_type": "code",
   "execution_count": 291,
   "metadata": {},
   "outputs": [
    {
     "data": {
      "text/html": [
       "<div>\n",
       "<style scoped>\n",
       "    .dataframe tbody tr th:only-of-type {\n",
       "        vertical-align: middle;\n",
       "    }\n",
       "\n",
       "    .dataframe tbody tr th {\n",
       "        vertical-align: top;\n",
       "    }\n",
       "\n",
       "    .dataframe thead th {\n",
       "        text-align: right;\n",
       "    }\n",
       "</style>\n",
       "<table border=\"1\" class=\"dataframe\">\n",
       "  <thead>\n",
       "    <tr style=\"text-align: right;\">\n",
       "      <th></th>\n",
       "      <th>Date</th>\n",
       "      <th>Open</th>\n",
       "      <th>High</th>\n",
       "      <th>Low</th>\n",
       "      <th>Close</th>\n",
       "      <th>Volume</th>\n",
       "      <th>Name</th>\n",
       "    </tr>\n",
       "  </thead>\n",
       "  <tbody>\n",
       "    <tr>\n",
       "      <th>0</th>\n",
       "      <td>2006-01-03</td>\n",
       "      <td>77.76</td>\n",
       "      <td>79.35</td>\n",
       "      <td>77.24</td>\n",
       "      <td>79.11</td>\n",
       "      <td>3117200</td>\n",
       "      <td>MMM</td>\n",
       "    </tr>\n",
       "    <tr>\n",
       "      <th>1</th>\n",
       "      <td>2006-01-04</td>\n",
       "      <td>79.49</td>\n",
       "      <td>79.49</td>\n",
       "      <td>78.25</td>\n",
       "      <td>78.71</td>\n",
       "      <td>2558000</td>\n",
       "      <td>MMM</td>\n",
       "    </tr>\n",
       "    <tr>\n",
       "      <th>2</th>\n",
       "      <td>2006-01-05</td>\n",
       "      <td>78.41</td>\n",
       "      <td>78.65</td>\n",
       "      <td>77.56</td>\n",
       "      <td>77.99</td>\n",
       "      <td>2529500</td>\n",
       "      <td>MMM</td>\n",
       "    </tr>\n",
       "    <tr>\n",
       "      <th>3</th>\n",
       "      <td>2006-01-06</td>\n",
       "      <td>78.64</td>\n",
       "      <td>78.90</td>\n",
       "      <td>77.64</td>\n",
       "      <td>78.63</td>\n",
       "      <td>2479500</td>\n",
       "      <td>MMM</td>\n",
       "    </tr>\n",
       "    <tr>\n",
       "      <th>4</th>\n",
       "      <td>2006-01-09</td>\n",
       "      <td>78.50</td>\n",
       "      <td>79.83</td>\n",
       "      <td>78.46</td>\n",
       "      <td>79.02</td>\n",
       "      <td>1845600</td>\n",
       "      <td>MMM</td>\n",
       "    </tr>\n",
       "    <tr>\n",
       "      <th>...</th>\n",
       "      <td>...</td>\n",
       "      <td>...</td>\n",
       "      <td>...</td>\n",
       "      <td>...</td>\n",
       "      <td>...</td>\n",
       "      <td>...</td>\n",
       "      <td>...</td>\n",
       "    </tr>\n",
       "    <tr>\n",
       "      <th>93607</th>\n",
       "      <td>2017-12-22</td>\n",
       "      <td>71.42</td>\n",
       "      <td>71.87</td>\n",
       "      <td>71.22</td>\n",
       "      <td>71.58</td>\n",
       "      <td>10979165</td>\n",
       "      <td>AABA</td>\n",
       "    </tr>\n",
       "    <tr>\n",
       "      <th>93608</th>\n",
       "      <td>2017-12-26</td>\n",
       "      <td>70.94</td>\n",
       "      <td>71.39</td>\n",
       "      <td>69.63</td>\n",
       "      <td>69.86</td>\n",
       "      <td>8542802</td>\n",
       "      <td>AABA</td>\n",
       "    </tr>\n",
       "    <tr>\n",
       "      <th>93609</th>\n",
       "      <td>2017-12-27</td>\n",
       "      <td>69.77</td>\n",
       "      <td>70.49</td>\n",
       "      <td>69.69</td>\n",
       "      <td>70.06</td>\n",
       "      <td>6345124</td>\n",
       "      <td>AABA</td>\n",
       "    </tr>\n",
       "    <tr>\n",
       "      <th>93610</th>\n",
       "      <td>2017-12-28</td>\n",
       "      <td>70.12</td>\n",
       "      <td>70.32</td>\n",
       "      <td>69.51</td>\n",
       "      <td>69.82</td>\n",
       "      <td>7556877</td>\n",
       "      <td>AABA</td>\n",
       "    </tr>\n",
       "    <tr>\n",
       "      <th>93611</th>\n",
       "      <td>2017-12-29</td>\n",
       "      <td>69.79</td>\n",
       "      <td>70.13</td>\n",
       "      <td>69.43</td>\n",
       "      <td>69.85</td>\n",
       "      <td>6613070</td>\n",
       "      <td>AABA</td>\n",
       "    </tr>\n",
       "  </tbody>\n",
       "</table>\n",
       "<p>93612 rows × 7 columns</p>\n",
       "</div>"
      ],
      "text/plain": [
       "             Date   Open   High    Low  Close    Volume  Name\n",
       "0      2006-01-03  77.76  79.35  77.24  79.11   3117200   MMM\n",
       "1      2006-01-04  79.49  79.49  78.25  78.71   2558000   MMM\n",
       "2      2006-01-05  78.41  78.65  77.56  77.99   2529500   MMM\n",
       "3      2006-01-06  78.64  78.90  77.64  78.63   2479500   MMM\n",
       "4      2006-01-09  78.50  79.83  78.46  79.02   1845600   MMM\n",
       "...           ...    ...    ...    ...    ...       ...   ...\n",
       "93607  2017-12-22  71.42  71.87  71.22  71.58  10979165  AABA\n",
       "93608  2017-12-26  70.94  71.39  69.63  69.86   8542802  AABA\n",
       "93609  2017-12-27  69.77  70.49  69.69  70.06   6345124  AABA\n",
       "93610  2017-12-28  70.12  70.32  69.51  69.82   7556877  AABA\n",
       "93611  2017-12-29  69.79  70.13  69.43  69.85   6613070  AABA\n",
       "\n",
       "[93612 rows x 7 columns]"
      ]
     },
     "execution_count": 291,
     "metadata": {},
     "output_type": "execute_result"
    }
   ],
   "source": [
    "df"
   ]
  },
  {
   "cell_type": "markdown",
   "metadata": {},
   "source": [
    "## Classic EDA"
   ]
  },
  {
   "cell_type": "markdown",
   "metadata": {},
   "source": [
    "### Show dataframe"
   ]
  },
  {
   "cell_type": "code",
   "execution_count": 292,
   "metadata": {},
   "outputs": [
    {
     "data": {
      "text/html": [
       "<div>\n",
       "<style scoped>\n",
       "    .dataframe tbody tr th:only-of-type {\n",
       "        vertical-align: middle;\n",
       "    }\n",
       "\n",
       "    .dataframe tbody tr th {\n",
       "        vertical-align: top;\n",
       "    }\n",
       "\n",
       "    .dataframe thead th {\n",
       "        text-align: right;\n",
       "    }\n",
       "</style>\n",
       "<table border=\"1\" class=\"dataframe\">\n",
       "  <thead>\n",
       "    <tr style=\"text-align: right;\">\n",
       "      <th></th>\n",
       "      <th>Open</th>\n",
       "      <th>High</th>\n",
       "      <th>Low</th>\n",
       "      <th>Close</th>\n",
       "      <th>Volume</th>\n",
       "    </tr>\n",
       "  </thead>\n",
       "  <tbody>\n",
       "    <tr>\n",
       "      <th>count</th>\n",
       "      <td>93587.000000</td>\n",
       "      <td>93602.000000</td>\n",
       "      <td>93592.000000</td>\n",
       "      <td>93612.000000</td>\n",
       "      <td>9.361200e+04</td>\n",
       "    </tr>\n",
       "    <tr>\n",
       "      <th>mean</th>\n",
       "      <td>85.623260</td>\n",
       "      <td>86.387045</td>\n",
       "      <td>84.836664</td>\n",
       "      <td>85.641753</td>\n",
       "      <td>2.015667e+07</td>\n",
       "    </tr>\n",
       "    <tr>\n",
       "      <th>std</th>\n",
       "      <td>108.151723</td>\n",
       "      <td>108.956365</td>\n",
       "      <td>107.225361</td>\n",
       "      <td>108.121106</td>\n",
       "      <td>3.442108e+07</td>\n",
       "    </tr>\n",
       "    <tr>\n",
       "      <th>min</th>\n",
       "      <td>6.750000</td>\n",
       "      <td>7.170000</td>\n",
       "      <td>0.000000</td>\n",
       "      <td>6.660000</td>\n",
       "      <td>0.000000e+00</td>\n",
       "    </tr>\n",
       "    <tr>\n",
       "      <th>25%</th>\n",
       "      <td>33.950000</td>\n",
       "      <td>34.290000</td>\n",
       "      <td>33.600000</td>\n",
       "      <td>33.960000</td>\n",
       "      <td>5.040180e+06</td>\n",
       "    </tr>\n",
       "    <tr>\n",
       "      <th>50%</th>\n",
       "      <td>60.040000</td>\n",
       "      <td>60.630000</td>\n",
       "      <td>59.490000</td>\n",
       "      <td>60.050000</td>\n",
       "      <td>9.701142e+06</td>\n",
       "    </tr>\n",
       "    <tr>\n",
       "      <th>75%</th>\n",
       "      <td>94.000000</td>\n",
       "      <td>94.740000</td>\n",
       "      <td>93.250000</td>\n",
       "      <td>94.012500</td>\n",
       "      <td>2.075222e+07</td>\n",
       "    </tr>\n",
       "    <tr>\n",
       "      <th>max</th>\n",
       "      <td>1204.880000</td>\n",
       "      <td>1213.410000</td>\n",
       "      <td>1191.150000</td>\n",
       "      <td>1195.830000</td>\n",
       "      <td>8.432640e+08</td>\n",
       "    </tr>\n",
       "  </tbody>\n",
       "</table>\n",
       "</div>"
      ],
      "text/plain": [
       "               Open          High           Low         Close        Volume\n",
       "count  93587.000000  93602.000000  93592.000000  93612.000000  9.361200e+04\n",
       "mean      85.623260     86.387045     84.836664     85.641753  2.015667e+07\n",
       "std      108.151723    108.956365    107.225361    108.121106  3.442108e+07\n",
       "min        6.750000      7.170000      0.000000      6.660000  0.000000e+00\n",
       "25%       33.950000     34.290000     33.600000     33.960000  5.040180e+06\n",
       "50%       60.040000     60.630000     59.490000     60.050000  9.701142e+06\n",
       "75%       94.000000     94.740000     93.250000     94.012500  2.075222e+07\n",
       "max     1204.880000   1213.410000   1191.150000   1195.830000  8.432640e+08"
      ]
     },
     "execution_count": 292,
     "metadata": {},
     "output_type": "execute_result"
    }
   ],
   "source": [
    "df.describe()"
   ]
  },
  {
   "cell_type": "code",
   "execution_count": 293,
   "metadata": {},
   "outputs": [
    {
     "name": "stdout",
     "output_type": "stream",
     "text": [
      "<class 'pandas.core.frame.DataFrame'>\n",
      "RangeIndex: 93612 entries, 0 to 93611\n",
      "Data columns (total 7 columns):\n",
      " #   Column  Non-Null Count  Dtype  \n",
      "---  ------  --------------  -----  \n",
      " 0   Date    93612 non-null  object \n",
      " 1   Open    93587 non-null  float64\n",
      " 2   High    93602 non-null  float64\n",
      " 3   Low     93592 non-null  float64\n",
      " 4   Close   93612 non-null  float64\n",
      " 5   Volume  93612 non-null  int64  \n",
      " 6   Name    93612 non-null  object \n",
      "dtypes: float64(4), int64(1), object(2)\n",
      "memory usage: 5.0+ MB\n"
     ]
    }
   ],
   "source": [
    "df.info()"
   ]
  },
  {
   "cell_type": "code",
   "execution_count": 294,
   "metadata": {},
   "outputs": [
    {
     "data": {
      "text/html": [
       "<div>\n",
       "<style scoped>\n",
       "    .dataframe tbody tr th:only-of-type {\n",
       "        vertical-align: middle;\n",
       "    }\n",
       "\n",
       "    .dataframe tbody tr th {\n",
       "        vertical-align: top;\n",
       "    }\n",
       "\n",
       "    .dataframe thead th {\n",
       "        text-align: right;\n",
       "    }\n",
       "</style>\n",
       "<table border=\"1\" class=\"dataframe\">\n",
       "  <thead>\n",
       "    <tr style=\"text-align: right;\">\n",
       "      <th></th>\n",
       "      <th>Date</th>\n",
       "      <th>Open</th>\n",
       "      <th>High</th>\n",
       "      <th>Low</th>\n",
       "      <th>Close</th>\n",
       "      <th>Volume</th>\n",
       "      <th>Name</th>\n",
       "    </tr>\n",
       "  </thead>\n",
       "  <tbody>\n",
       "    <tr>\n",
       "      <th>0</th>\n",
       "      <td>2006-01-03</td>\n",
       "      <td>77.76</td>\n",
       "      <td>79.35</td>\n",
       "      <td>77.24</td>\n",
       "      <td>79.11</td>\n",
       "      <td>3117200</td>\n",
       "      <td>MMM</td>\n",
       "    </tr>\n",
       "    <tr>\n",
       "      <th>1</th>\n",
       "      <td>2006-01-04</td>\n",
       "      <td>79.49</td>\n",
       "      <td>79.49</td>\n",
       "      <td>78.25</td>\n",
       "      <td>78.71</td>\n",
       "      <td>2558000</td>\n",
       "      <td>MMM</td>\n",
       "    </tr>\n",
       "    <tr>\n",
       "      <th>2</th>\n",
       "      <td>2006-01-05</td>\n",
       "      <td>78.41</td>\n",
       "      <td>78.65</td>\n",
       "      <td>77.56</td>\n",
       "      <td>77.99</td>\n",
       "      <td>2529500</td>\n",
       "      <td>MMM</td>\n",
       "    </tr>\n",
       "    <tr>\n",
       "      <th>3</th>\n",
       "      <td>2006-01-06</td>\n",
       "      <td>78.64</td>\n",
       "      <td>78.90</td>\n",
       "      <td>77.64</td>\n",
       "      <td>78.63</td>\n",
       "      <td>2479500</td>\n",
       "      <td>MMM</td>\n",
       "    </tr>\n",
       "    <tr>\n",
       "      <th>4</th>\n",
       "      <td>2006-01-09</td>\n",
       "      <td>78.50</td>\n",
       "      <td>79.83</td>\n",
       "      <td>78.46</td>\n",
       "      <td>79.02</td>\n",
       "      <td>1845600</td>\n",
       "      <td>MMM</td>\n",
       "    </tr>\n",
       "  </tbody>\n",
       "</table>\n",
       "</div>"
      ],
      "text/plain": [
       "         Date   Open   High    Low  Close   Volume Name\n",
       "0  2006-01-03  77.76  79.35  77.24  79.11  3117200  MMM\n",
       "1  2006-01-04  79.49  79.49  78.25  78.71  2558000  MMM\n",
       "2  2006-01-05  78.41  78.65  77.56  77.99  2529500  MMM\n",
       "3  2006-01-06  78.64  78.90  77.64  78.63  2479500  MMM\n",
       "4  2006-01-09  78.50  79.83  78.46  79.02  1845600  MMM"
      ]
     },
     "execution_count": 294,
     "metadata": {},
     "output_type": "execute_result"
    }
   ],
   "source": [
    "df.head()"
   ]
  },
  {
   "cell_type": "code",
   "execution_count": 295,
   "metadata": {},
   "outputs": [
    {
     "data": {
      "text/html": [
       "<div>\n",
       "<style scoped>\n",
       "    .dataframe tbody tr th:only-of-type {\n",
       "        vertical-align: middle;\n",
       "    }\n",
       "\n",
       "    .dataframe tbody tr th {\n",
       "        vertical-align: top;\n",
       "    }\n",
       "\n",
       "    .dataframe thead th {\n",
       "        text-align: right;\n",
       "    }\n",
       "</style>\n",
       "<table border=\"1\" class=\"dataframe\">\n",
       "  <thead>\n",
       "    <tr style=\"text-align: right;\">\n",
       "      <th></th>\n",
       "      <th>Date</th>\n",
       "      <th>Open</th>\n",
       "      <th>High</th>\n",
       "      <th>Low</th>\n",
       "      <th>Close</th>\n",
       "      <th>Volume</th>\n",
       "      <th>Name</th>\n",
       "    </tr>\n",
       "  </thead>\n",
       "  <tbody>\n",
       "    <tr>\n",
       "      <th>93607</th>\n",
       "      <td>2017-12-22</td>\n",
       "      <td>71.42</td>\n",
       "      <td>71.87</td>\n",
       "      <td>71.22</td>\n",
       "      <td>71.58</td>\n",
       "      <td>10979165</td>\n",
       "      <td>AABA</td>\n",
       "    </tr>\n",
       "    <tr>\n",
       "      <th>93608</th>\n",
       "      <td>2017-12-26</td>\n",
       "      <td>70.94</td>\n",
       "      <td>71.39</td>\n",
       "      <td>69.63</td>\n",
       "      <td>69.86</td>\n",
       "      <td>8542802</td>\n",
       "      <td>AABA</td>\n",
       "    </tr>\n",
       "    <tr>\n",
       "      <th>93609</th>\n",
       "      <td>2017-12-27</td>\n",
       "      <td>69.77</td>\n",
       "      <td>70.49</td>\n",
       "      <td>69.69</td>\n",
       "      <td>70.06</td>\n",
       "      <td>6345124</td>\n",
       "      <td>AABA</td>\n",
       "    </tr>\n",
       "    <tr>\n",
       "      <th>93610</th>\n",
       "      <td>2017-12-28</td>\n",
       "      <td>70.12</td>\n",
       "      <td>70.32</td>\n",
       "      <td>69.51</td>\n",
       "      <td>69.82</td>\n",
       "      <td>7556877</td>\n",
       "      <td>AABA</td>\n",
       "    </tr>\n",
       "    <tr>\n",
       "      <th>93611</th>\n",
       "      <td>2017-12-29</td>\n",
       "      <td>69.79</td>\n",
       "      <td>70.13</td>\n",
       "      <td>69.43</td>\n",
       "      <td>69.85</td>\n",
       "      <td>6613070</td>\n",
       "      <td>AABA</td>\n",
       "    </tr>\n",
       "  </tbody>\n",
       "</table>\n",
       "</div>"
      ],
      "text/plain": [
       "             Date   Open   High    Low  Close    Volume  Name\n",
       "93607  2017-12-22  71.42  71.87  71.22  71.58  10979165  AABA\n",
       "93608  2017-12-26  70.94  71.39  69.63  69.86   8542802  AABA\n",
       "93609  2017-12-27  69.77  70.49  69.69  70.06   6345124  AABA\n",
       "93610  2017-12-28  70.12  70.32  69.51  69.82   7556877  AABA\n",
       "93611  2017-12-29  69.79  70.13  69.43  69.85   6613070  AABA"
      ]
     },
     "execution_count": 295,
     "metadata": {},
     "output_type": "execute_result"
    }
   ],
   "source": [
    "df.tail(5)"
   ]
  },
  {
   "cell_type": "markdown",
   "metadata": {},
   "source": [
    "### Missing data points"
   ]
  },
  {
   "cell_type": "code",
   "execution_count": 296,
   "metadata": {},
   "outputs": [
    {
     "name": "stdout",
     "output_type": "stream",
     "text": [
      "Dataframe total rows:  93612\n"
     ]
    },
    {
     "data": {
      "text/html": [
       "<div>\n",
       "<style scoped>\n",
       "    .dataframe tbody tr th:only-of-type {\n",
       "        vertical-align: middle;\n",
       "    }\n",
       "\n",
       "    .dataframe tbody tr th {\n",
       "        vertical-align: top;\n",
       "    }\n",
       "\n",
       "    .dataframe thead th {\n",
       "        text-align: right;\n",
       "    }\n",
       "</style>\n",
       "<table border=\"1\" class=\"dataframe\">\n",
       "  <thead>\n",
       "    <tr style=\"text-align: right;\">\n",
       "      <th></th>\n",
       "      <th>Data Type</th>\n",
       "      <th>Example 1</th>\n",
       "      <th>Example 2</th>\n",
       "      <th>Example 3</th>\n",
       "      <th>Total Not Missing</th>\n",
       "      <th>% of not missing values</th>\n",
       "    </tr>\n",
       "  </thead>\n",
       "  <tbody>\n",
       "    <tr>\n",
       "      <th>Date</th>\n",
       "      <td>object</td>\n",
       "      <td>2014-03-20</td>\n",
       "      <td>2017-08-11</td>\n",
       "      <td>2008-01-07</td>\n",
       "      <td>93612</td>\n",
       "      <td>100.0 %</td>\n",
       "    </tr>\n",
       "    <tr>\n",
       "      <th>Open</th>\n",
       "      <td>float64</td>\n",
       "      <td>600.58</td>\n",
       "      <td>33.5</td>\n",
       "      <td>41.1</td>\n",
       "      <td>93587</td>\n",
       "      <td>99.97 %</td>\n",
       "    </tr>\n",
       "    <tr>\n",
       "      <th>High</th>\n",
       "      <td>float64</td>\n",
       "      <td>605.41</td>\n",
       "      <td>33.56</td>\n",
       "      <td>41.58</td>\n",
       "      <td>93602</td>\n",
       "      <td>99.99 %</td>\n",
       "    </tr>\n",
       "    <tr>\n",
       "      <th>Low</th>\n",
       "      <td>float64</td>\n",
       "      <td>598.28</td>\n",
       "      <td>33.21</td>\n",
       "      <td>40.16</td>\n",
       "      <td>93592</td>\n",
       "      <td>99.98 %</td>\n",
       "    </tr>\n",
       "    <tr>\n",
       "      <th>Close</th>\n",
       "      <td>float64</td>\n",
       "      <td>599.18</td>\n",
       "      <td>33.25</td>\n",
       "      <td>41.34</td>\n",
       "      <td>93612</td>\n",
       "      <td>100.0 %</td>\n",
       "    </tr>\n",
       "    <tr>\n",
       "      <th>Volume</th>\n",
       "      <td>int64</td>\n",
       "      <td>1684975</td>\n",
       "      <td>12928473</td>\n",
       "      <td>25650562</td>\n",
       "      <td>93612</td>\n",
       "      <td>100.0 %</td>\n",
       "    </tr>\n",
       "    <tr>\n",
       "      <th>Name</th>\n",
       "      <td>object</td>\n",
       "      <td>GOOGL</td>\n",
       "      <td>PFE</td>\n",
       "      <td>JPM</td>\n",
       "      <td>93612</td>\n",
       "      <td>100.0 %</td>\n",
       "    </tr>\n",
       "  </tbody>\n",
       "</table>\n",
       "</div>"
      ],
      "text/plain": [
       "       Data Type   Example 1   Example 2   Example 3  Total Not Missing  \\\n",
       "Date      object  2014-03-20  2017-08-11  2008-01-07              93612   \n",
       "Open     float64      600.58        33.5        41.1              93587   \n",
       "High     float64      605.41       33.56       41.58              93602   \n",
       "Low      float64      598.28       33.21       40.16              93592   \n",
       "Close    float64      599.18       33.25       41.34              93612   \n",
       "Volume     int64     1684975    12928473    25650562              93612   \n",
       "Name      object       GOOGL         PFE         JPM              93612   \n",
       "\n",
       "       % of not missing values  \n",
       "Date                   100.0 %  \n",
       "Open                   99.97 %  \n",
       "High                   99.99 %  \n",
       "Low                    99.98 %  \n",
       "Close                  100.0 %  \n",
       "Volume                 100.0 %  \n",
       "Name                   100.0 %  "
      ]
     },
     "execution_count": 296,
     "metadata": {},
     "output_type": "execute_result"
    }
   ],
   "source": [
    "ex1, ex2, ex3 = random.sample(range(len(df)), 3) #show table with examples and missing values\n",
    "\n",
    "print(\"Dataframe total rows: \", len(df))\n",
    "df_info = pd.DataFrame(data = df.dtypes)\n",
    "not_missing_values_total = df.notnull().sum()\n",
    "not_missing_values_percent = round(not_missing_values_total/len(df)*100,2).astype(str)+\" %\"\n",
    "\n",
    "pd.concat([df_info[0].rename(\"Data Type\"),\\\n",
    "           df.T[ex1].rename(\"Example 1\"),\\\n",
    "           df.T[ex2].rename(\"Example 2\"),\\\n",
    "           df.T[ex3].rename(\"Example 3\"),\\\n",
    "           not_missing_values_total.rename(\"Total Not Missing\"), \\\n",
    "           not_missing_values_percent.rename(\"% of not missing values\")], axis=1)"
   ]
  },
  {
   "cell_type": "code",
   "execution_count": 297,
   "metadata": {},
   "outputs": [
    {
     "data": {
      "text/plain": [
       "Date       0\n",
       "Open      25\n",
       "High      10\n",
       "Low       20\n",
       "Close      0\n",
       "Volume     0\n",
       "Name       0\n",
       "dtype: int64"
      ]
     },
     "execution_count": 297,
     "metadata": {},
     "output_type": "execute_result"
    }
   ],
   "source": [
    "df.isna().sum()\n",
    "df.isnull().sum()"
   ]
  },
  {
   "cell_type": "markdown",
   "metadata": {},
   "source": [
    "### Fill empty spaces"
   ]
  },
  {
   "cell_type": "code",
   "execution_count": 298,
   "metadata": {},
   "outputs": [],
   "source": [
    "sliced_df = df.fillna(0)"
   ]
  },
  {
   "cell_type": "code",
   "execution_count": 299,
   "metadata": {},
   "outputs": [
    {
     "data": {
      "text/plain": [
       "Date      0\n",
       "Open      0\n",
       "High      0\n",
       "Low       0\n",
       "Close     0\n",
       "Volume    0\n",
       "Name      0\n",
       "dtype: int64"
      ]
     },
     "execution_count": 299,
     "metadata": {},
     "output_type": "execute_result"
    }
   ],
   "source": [
    "sliced_df.isna().sum()"
   ]
  },
  {
   "cell_type": "markdown",
   "metadata": {},
   "source": [
    "### Variable analysis"
   ]
  },
  {
   "cell_type": "markdown",
   "metadata": {},
   "source": [
    "#### Numeric values"
   ]
  },
  {
   "cell_type": "code",
   "execution_count": 300,
   "metadata": {},
   "outputs": [
    {
     "data": {
      "text/html": [
       "<div>\n",
       "<style scoped>\n",
       "    .dataframe tbody tr th:only-of-type {\n",
       "        vertical-align: middle;\n",
       "    }\n",
       "\n",
       "    .dataframe tbody tr th {\n",
       "        vertical-align: top;\n",
       "    }\n",
       "\n",
       "    .dataframe thead th {\n",
       "        text-align: right;\n",
       "    }\n",
       "</style>\n",
       "<table border=\"1\" class=\"dataframe\">\n",
       "  <thead>\n",
       "    <tr style=\"text-align: right;\">\n",
       "      <th></th>\n",
       "      <th>count</th>\n",
       "      <th>mean</th>\n",
       "      <th>std</th>\n",
       "      <th>min</th>\n",
       "      <th>25%</th>\n",
       "      <th>50%</th>\n",
       "      <th>75%</th>\n",
       "      <th>max</th>\n",
       "    </tr>\n",
       "  </thead>\n",
       "  <tbody>\n",
       "    <tr>\n",
       "      <th>Open</th>\n",
       "      <td>93612.0</td>\n",
       "      <td>8.560039e+01</td>\n",
       "      <td>1.081463e+02</td>\n",
       "      <td>0.00</td>\n",
       "      <td>33.93</td>\n",
       "      <td>60.01</td>\n",
       "      <td>9.399250e+01</td>\n",
       "      <td>1.204880e+03</td>\n",
       "    </tr>\n",
       "    <tr>\n",
       "      <th>High</th>\n",
       "      <td>93612.0</td>\n",
       "      <td>8.637782e+01</td>\n",
       "      <td>1.089542e+02</td>\n",
       "      <td>0.00</td>\n",
       "      <td>34.28</td>\n",
       "      <td>60.62</td>\n",
       "      <td>9.474000e+01</td>\n",
       "      <td>1.213410e+03</td>\n",
       "    </tr>\n",
       "    <tr>\n",
       "      <th>Low</th>\n",
       "      <td>93612.0</td>\n",
       "      <td>8.481854e+01</td>\n",
       "      <td>1.072211e+02</td>\n",
       "      <td>0.00</td>\n",
       "      <td>33.59</td>\n",
       "      <td>59.47</td>\n",
       "      <td>9.324250e+01</td>\n",
       "      <td>1.191150e+03</td>\n",
       "    </tr>\n",
       "    <tr>\n",
       "      <th>Close</th>\n",
       "      <td>93612.0</td>\n",
       "      <td>8.564175e+01</td>\n",
       "      <td>1.081211e+02</td>\n",
       "      <td>6.66</td>\n",
       "      <td>33.96</td>\n",
       "      <td>60.05</td>\n",
       "      <td>9.401250e+01</td>\n",
       "      <td>1.195830e+03</td>\n",
       "    </tr>\n",
       "    <tr>\n",
       "      <th>Volume</th>\n",
       "      <td>93612.0</td>\n",
       "      <td>2.015667e+07</td>\n",
       "      <td>3.442108e+07</td>\n",
       "      <td>0.00</td>\n",
       "      <td>5040180.50</td>\n",
       "      <td>9701141.50</td>\n",
       "      <td>2.075222e+07</td>\n",
       "      <td>8.432640e+08</td>\n",
       "    </tr>\n",
       "  </tbody>\n",
       "</table>\n",
       "</div>"
      ],
      "text/plain": [
       "          count          mean           std   min         25%         50%  \\\n",
       "Open    93612.0  8.560039e+01  1.081463e+02  0.00       33.93       60.01   \n",
       "High    93612.0  8.637782e+01  1.089542e+02  0.00       34.28       60.62   \n",
       "Low     93612.0  8.481854e+01  1.072211e+02  0.00       33.59       59.47   \n",
       "Close   93612.0  8.564175e+01  1.081211e+02  6.66       33.96       60.05   \n",
       "Volume  93612.0  2.015667e+07  3.442108e+07  0.00  5040180.50  9701141.50   \n",
       "\n",
       "                 75%           max  \n",
       "Open    9.399250e+01  1.204880e+03  \n",
       "High    9.474000e+01  1.213410e+03  \n",
       "Low     9.324250e+01  1.191150e+03  \n",
       "Close   9.401250e+01  1.195830e+03  \n",
       "Volume  2.075222e+07  8.432640e+08  "
      ]
     },
     "execution_count": 300,
     "metadata": {},
     "output_type": "execute_result"
    }
   ],
   "source": [
    "NUMERICS = ('int16', 'int32', 'int64', 'float16', 'float32', 'float64') #numeric variables\n",
    "sliced_df.select_dtypes(include = NUMERICS).describe().T"
   ]
  },
  {
   "cell_type": "markdown",
   "metadata": {},
   "source": [
    "#### Categorical values"
   ]
  },
  {
   "cell_type": "code",
   "execution_count": 301,
   "metadata": {},
   "outputs": [
    {
     "data": {
      "text/html": [
       "<div>\n",
       "<style scoped>\n",
       "    .dataframe tbody tr th:only-of-type {\n",
       "        vertical-align: middle;\n",
       "    }\n",
       "\n",
       "    .dataframe tbody tr th {\n",
       "        vertical-align: top;\n",
       "    }\n",
       "\n",
       "    .dataframe thead th {\n",
       "        text-align: right;\n",
       "    }\n",
       "</style>\n",
       "<table border=\"1\" class=\"dataframe\">\n",
       "  <thead>\n",
       "    <tr style=\"text-align: right;\">\n",
       "      <th></th>\n",
       "      <th>count</th>\n",
       "      <th>unique</th>\n",
       "      <th>top</th>\n",
       "      <th>freq</th>\n",
       "    </tr>\n",
       "  </thead>\n",
       "  <tbody>\n",
       "    <tr>\n",
       "      <th>Date</th>\n",
       "      <td>93612</td>\n",
       "      <td>3020</td>\n",
       "      <td>2006-01-03</td>\n",
       "      <td>31</td>\n",
       "    </tr>\n",
       "    <tr>\n",
       "      <th>Name</th>\n",
       "      <td>93612</td>\n",
       "      <td>31</td>\n",
       "      <td>MMM</td>\n",
       "      <td>3020</td>\n",
       "    </tr>\n",
       "  </tbody>\n",
       "</table>\n",
       "</div>"
      ],
      "text/plain": [
       "      count unique         top  freq\n",
       "Date  93612   3020  2006-01-03    31\n",
       "Name  93612     31         MMM  3020"
      ]
     },
     "execution_count": 301,
     "metadata": {},
     "output_type": "execute_result"
    }
   ],
   "source": [
    "sliced_df.select_dtypes(include ='object').describe(include = 'O').T #categorical variables"
   ]
  },
  {
   "cell_type": "markdown",
   "metadata": {},
   "source": [
    "### Data type correction"
   ]
  },
  {
   "cell_type": "code",
   "execution_count": 302,
   "metadata": {},
   "outputs": [
    {
     "name": "stdout",
     "output_type": "stream",
     "text": [
      "<class 'pandas.core.frame.DataFrame'>\n",
      "RangeIndex: 93612 entries, 0 to 93611\n",
      "Data columns (total 7 columns):\n",
      " #   Column  Non-Null Count  Dtype  \n",
      "---  ------  --------------  -----  \n",
      " 0   Date    93612 non-null  object \n",
      " 1   Open    93612 non-null  float64\n",
      " 2   High    93612 non-null  float64\n",
      " 3   Low     93612 non-null  float64\n",
      " 4   Close   93612 non-null  float64\n",
      " 5   Volume  93612 non-null  int64  \n",
      " 6   Name    93612 non-null  object \n",
      "dtypes: float64(4), int64(1), object(2)\n",
      "memory usage: 5.0+ MB\n"
     ]
    }
   ],
   "source": [
    "sliced_df.info()"
   ]
  },
  {
   "cell_type": "markdown",
   "metadata": {},
   "source": [
    "After analyzing the data types, I conclude that Column with name Date must be changed to a datetime related data type."
   ]
  },
  {
   "cell_type": "code",
   "execution_count": 303,
   "metadata": {},
   "outputs": [
    {
     "name": "stdout",
     "output_type": "stream",
     "text": [
      "<class 'pandas.core.frame.DataFrame'>\n",
      "RangeIndex: 93612 entries, 0 to 93611\n",
      "Data columns (total 7 columns):\n",
      " #   Column  Non-Null Count  Dtype         \n",
      "---  ------  --------------  -----         \n",
      " 0   Date    93612 non-null  datetime64[ns]\n",
      " 1   Open    93612 non-null  float64       \n",
      " 2   High    93612 non-null  float64       \n",
      " 3   Low     93612 non-null  float64       \n",
      " 4   Close   93612 non-null  float64       \n",
      " 5   Volume  93612 non-null  int64         \n",
      " 6   Name    93612 non-null  object        \n",
      "dtypes: datetime64[ns](1), float64(4), int64(1), object(1)\n",
      "memory usage: 5.0+ MB\n"
     ]
    }
   ],
   "source": [
    "sliced_df[\"Date\"] = pd.to_datetime(sliced_df[\"Date\"])\n",
    "sliced_df.info()"
   ]
  },
  {
   "cell_type": "markdown",
   "metadata": {},
   "source": [
    "### Value Understanding"
   ]
  },
  {
   "cell_type": "code",
   "execution_count": 304,
   "metadata": {},
   "outputs": [
    {
     "data": {
      "image/png": "[encoded data removed]",
      "text/plain": [
       "<Figure size 1224x576 with 1 Axes>"
      ]
     },
     "metadata": {
      "needs_background": "light"
     },
     "output_type": "display_data"
    }
   ],
   "source": [
    "plt.figure(figsize=(17, 8))\n",
    "plt.scatter(sliced_df['Date'],sliced_df['Close'])\n",
    "plt.title('Date vs Closing Value')\n",
    "plt.ylabel('($)')\n",
    "plt.xlabel('Day')\n",
    "plt.grid(False)\n",
    "plt.show()"
   ]
  },
  {
   "cell_type": "markdown",
   "metadata": {},
   "source": [
    "As you may see, the results of this graphic cant be concluded, as all stocks are plotted. In the statistical eda will be developing a bulk viz to visualize each stock by its behavior."
   ]
  },
  {
   "cell_type": "markdown",
   "metadata": {},
   "source": [
    "## Statiscal EDA"
   ]
  },
  {
   "cell_type": "markdown",
   "metadata": {},
   "source": [
    "### Bulk Viz"
   ]
  },
  {
   "cell_type": "code",
   "execution_count": 305,
   "metadata": {},
   "outputs": [],
   "source": [
    "def viz(sliced_df,varList):\n",
    "    pdf = PdfPages('../stock_forecasting/Visualizations_PDF/BulkViz.pdf')\n",
    "    for var in varList:\n",
    "        graphDF = df.groupby(['Date',\"Name\"])[var].sum().unstack().reset_index()\n",
    "        graphDF = graphDF.set_index('Date')\n",
    "        for col in graphDF.columns[1::]:\n",
    "            fig, (ax1, ax2, ax3)  = plt.subplots(1, 3, sharey='row',figsize=(20, 4)) #viz formatting\n",
    "\n",
    "            graphDF[col].plot(kind='line',ax=ax1) #line time series\n",
    "            ax1.set_title('Serie')\n",
    "            \n",
    "            graphDF[col].plot(kind='box',ax=ax2) #boxplot\n",
    "            ax2.set_title('Boxplot')\n",
    "            \n",
    "            graphDF[col].plot(kind='hist',ax=ax3) #hist\n",
    "            ax3.set_title('Hist')\n",
    "\n",
    "            fig.suptitle(col+' / '+var)\n",
    "            pdf.savefig(fig, bbox_inches='tight')\n",
    "            plt.close(fig) #optimize ram usage\n",
    "    pdf.close()"
   ]
  },
  {
   "cell_type": "code",
   "execution_count": 306,
   "metadata": {},
   "outputs": [],
   "source": [
    "cols = [\"Open\",\"High\",\"Low\",\"Close\",\"Volume\"] #numeric columns\n",
    "viz(sliced_df,cols)"
   ]
  },
  {
   "cell_type": "markdown",
   "metadata": {},
   "source": [
    "As I quickly analyzed the [BulkViz](../stock_forecasting/Visualizations_PDF/BulkViz.pdf) file, I found that the AMZN stock may be interesting to analize more thoroughly cause it shows several outliers in every numeric column within that stock name."
   ]
  },
  {
   "cell_type": "markdown",
   "metadata": {},
   "source": [
    "## TimeSeries Analysis"
   ]
  },
  {
   "cell_type": "code",
   "execution_count": 307,
   "metadata": {},
   "outputs": [],
   "source": [
    "transformed_df = sliced_df\n",
    "transformed_df.set_index(transformed_df[\"Date\"],inplace=True)"
   ]
  },
  {
   "cell_type": "code",
   "execution_count": 308,
   "metadata": {},
   "outputs": [
    {
     "data": {
      "text/plain": [
       "dtype('<M8[ns]')"
      ]
     },
     "execution_count": 308,
     "metadata": {},
     "output_type": "execute_result"
    }
   ],
   "source": [
    "transformed_df.index.dtype"
   ]
  },
  {
   "cell_type": "code",
   "execution_count": 309,
   "metadata": {},
   "outputs": [
    {
     "name": "stdout",
     "output_type": "stream",
     "text": [
      "<class 'pandas.core.frame.DataFrame'>\n",
      "DatetimeIndex: 93612 entries, 2006-01-03 to 2017-12-29\n",
      "Data columns (total 7 columns):\n",
      " #   Column  Non-Null Count  Dtype         \n",
      "---  ------  --------------  -----         \n",
      " 0   Date    93612 non-null  datetime64[ns]\n",
      " 1   Open    93612 non-null  float64       \n",
      " 2   High    93612 non-null  float64       \n",
      " 3   Low     93612 non-null  float64       \n",
      " 4   Close   93612 non-null  float64       \n",
      " 5   Volume  93612 non-null  int64         \n",
      " 6   Name    93612 non-null  object        \n",
      "dtypes: datetime64[ns](1), float64(4), int64(1), object(1)\n",
      "memory usage: 5.7+ MB\n"
     ]
    }
   ],
   "source": [
    "transformed_df.info()"
   ]
  },
  {
   "cell_type": "code",
   "execution_count": 310,
   "metadata": {},
   "outputs": [],
   "source": [
    "transformed_df.drop(columns=[\"Date\"],inplace=True)"
   ]
  },
  {
   "cell_type": "code",
   "execution_count": 311,
   "metadata": {},
   "outputs": [],
   "source": [
    "transformed_df.sort_index(inplace=True)"
   ]
  },
  {
   "cell_type": "markdown",
   "metadata": {},
   "source": [
    "### Check dates"
   ]
  },
  {
   "cell_type": "code",
   "execution_count": 316,
   "metadata": {},
   "outputs": [],
   "source": [
    "resampleDF = sliced_df.reset_index()"
   ]
  },
  {
   "cell_type": "code",
   "execution_count": 320,
   "metadata": {},
   "outputs": [
    {
     "name": "stdout",
     "output_type": "stream",
     "text": [
      "Train dates      : 2006-01-03 00:00:00 --- 2014-05-23 00:00:00\n",
      "Validation dates : 2014-05-27 00:00:00 --- 2016-10-17 00:00:00\n",
      "Test dates       : 2016-10-18 00:00:00 --- 2017-12-29 00:00:00\n"
     ]
    }
   ],
   "source": [
    "startDate = transformed_df.index.min()\n",
    "endDate = transformed_df.index.max()\n",
    "\n",
    "percTrain = .7 #subset percentage\n",
    "percVal = .2\n",
    "percTest = .1\n",
    "\n",
    "difDate = (endDate - startDate).days\n",
    "\n",
    "startTest = endDate - timedelta(days = difDate*percTest)\n",
    "startVal = startTest - timedelta(days = difDate*percVal)\n",
    "\n",
    "df_train = resampleDF[resampleDF['Date'] < startVal].set_index('Date')\n",
    "df_val = resampleDF[(resampleDF['Date'] > startVal) & (resampleDF['Date'] < startTest) ].set_index('Date')\n",
    "df_test = resampleDF[resampleDF['Date'] > startTest].set_index('Date')\n",
    "\n",
    "print(f\"Train dates      : {df_train.index.min()} --- {df_train.index.max()}\")\n",
    "print(f\"Validation dates : {df_val.index.min()} --- {df_val.index.max()}\")\n",
    "print(f\"Test dates       : {df_test.index.min()} --- {df_test.index.max()}\")"
   ]
  },
  {
   "cell_type": "markdown",
   "metadata": {},
   "source": [
    "### TimeSeries Viz"
   ]
  },
  {
   "cell_type": "code",
   "execution_count": 321,
   "metadata": {},
   "outputs": [],
   "source": [
    "pdf = PdfPages('../stock_forecasting/Visualizations_PDF/TimeSeriesViz.pdf')\n",
    "\n",
    "cols = [\"Open\",\"High\",\"Low\",\"Close\",\"Volume\"] #numeric columns\n",
    "\n",
    "for stock in resampleDF['Name'].unique():\n",
    "        for col in cols:\n",
    "                fig, ax = plt.subplots(figsize=(15, 8))\n",
    "                df_train[df_train['Name']==stock][col].plot(ax=ax, label='train', linewidth=1)\n",
    "                df_val[df_val['Name']==stock][col].plot(ax=ax, label='validation', linewidth=1)\n",
    "                df_test[df_test['Name']==stock][col].plot(ax=ax, label='test', linewidth=1)\n",
    "                ax.set_title(stock + ' - ' + col)\n",
    "                ax.legend();\n",
    "                pdf.savefig(fig, bbox_inches='tight')\n",
    "                plt.close(fig) #optimize ram usage\n",
    "pdf.close()"
   ]
  },
  {
   "cell_type": "markdown",
   "metadata": {},
   "source": [
    "## TimeSeries Decomposition"
   ]
  },
  {
   "cell_type": "markdown",
   "metadata": {},
   "source": [
    "Brownlee, J. (2020, dic 10). How to Decompose Time Series Data into Trend and Seasonality. Machine Learning Mastery. Retrieved on june 02, 2022 from: https://machinelearningmastery.com/decompose-time-series-data-trend-seasonality/\n",
    "\n",
    "Time Series Components\n",
    "A useful abstraction for selecting forecasting methods is to break a time series down into systematic and unsystematic components.\n",
    "\n",
    "Systematic: Components of the time series that have consistency or recurrence and can be described and modeled.\n",
    "Non-Systematic: Components of the time series that cannot be directly modeled.\n",
    "A given time series is thought to consist of three systematic components including level, trend, seasonality, and one non-systematic component called noise.\n",
    "\n",
    "These components are defined as follows:\n",
    "\n",
    "Level: The average value in the series.\n",
    "Trend: The increasing or decreasing value in the series.\n",
    "Seasonality: The repeating short-term cycle in the series.\n",
    "Noise: The random variation in the series."
   ]
  },
  {
   "cell_type": "code",
   "execution_count": 322,
   "metadata": {},
   "outputs": [],
   "source": [
    "series = resampleDF\n",
    "series.set_index('Date',inplace=True)"
   ]
  },
  {
   "cell_type": "code",
   "execution_count": 325,
   "metadata": {},
   "outputs": [
    {
     "data": {
      "text/plain": [
       "<Figure size 432x288 with 0 Axes>"
      ]
     },
     "metadata": {},
     "output_type": "display_data"
    }
   ],
   "source": [
    "pdf = PdfPages('../stock_forecasting/Visualizations_PDF/TimeSeriesDecomposition.pdf')\n",
    "\n",
    "cols = [\"Open\",\"High\",\"Low\",\"Close\",\"Volume\"] #numeric columns\n",
    "\n",
    "for stock in resampleDF['Name'].unique():\n",
    "    for col in cols:\n",
    "        plt.tight_layout()\n",
    "        plt.rcParams[\"figure.figsize\"] = (15,8)\n",
    "        result = seasonal_decompose(series[series['Name']==stock][col], model='additive',period=1)\n",
    "        fig = result.plot()\n",
    "        fig.suptitle(stock,x=0.1, y=.98, horizontalalignment='left', verticalalignment='top')\n",
    "        pdf.savefig(fig)\n",
    "        plt.close() #optimize ram usage\n",
    "pdf.close()"
   ]
  }
 ],
 "metadata": {
  "kernelspec": {
   "display_name": "Python 3.10.4 ('applied_data_science_env': venv)",
   "language": "python",
   "name": "python3"
  },
  "language_info": {
   "codemirror_mode": {
    "name": "ipython",
    "version": 3
   },
   "file_extension": ".py",
   "mimetype": "text/x-python",
   "name": "python",
   "nbconvert_exporter": "python",
   "pygments_lexer": "ipython3",
   "version": "3.10.4"
  },
  "orig_nbformat": 4,
  "vscode": {
   "interpreter": {
    "hash": "5bcb3cac2fe230382768c3d27588b070a235797597ee788317d6ed4549d8e7e2"
   }
  }
 },
 "nbformat": 4,
 "nbformat_minor": 2
}
