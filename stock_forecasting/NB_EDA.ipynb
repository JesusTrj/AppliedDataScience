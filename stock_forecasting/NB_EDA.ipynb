{
 "cells": [
  {
   "cell_type": "markdown",
   "metadata": {},
   "source": [
    "# Exploratory Data Analysis"
   ]
  },
  {
   "cell_type": "markdown",
   "metadata": {},
   "source": [
    "## Requirements"
   ]
  },
  {
   "cell_type": "code",
   "execution_count": 40,
   "metadata": {},
   "outputs": [],
   "source": [
    "#load necesary libraries\n",
    "import pandas as pd\n",
    "import os\n",
    "import csv\n",
    "import glob\n",
    "import random\n",
    "\n",
    "import matplotlib.pyplot as plt \n",
    "\n",
    "from matplotlib.backends.backend_pdf import PdfPages"
   ]
  },
  {
   "cell_type": "markdown",
   "metadata": {},
   "source": [
    "## For all stocks"
   ]
  },
  {
   "cell_type": "code",
   "execution_count": 19,
   "metadata": {},
   "outputs": [],
   "source": [
    "csv_path = \"../stock_forecasting/stock_data/Compiled/all_stocks_2006-01-01_to_2018-01-01.csv\"\n",
    "df = pd.read_csv(csv_path)"
   ]
  },
  {
   "cell_type": "code",
   "execution_count": 20,
   "metadata": {},
   "outputs": [
    {
     "data": {
      "text/html": [
       "<div>\n",
       "<style scoped>\n",
       "    .dataframe tbody tr th:only-of-type {\n",
       "        vertical-align: middle;\n",
       "    }\n",
       "\n",
       "    .dataframe tbody tr th {\n",
       "        vertical-align: top;\n",
       "    }\n",
       "\n",
       "    .dataframe thead th {\n",
       "        text-align: right;\n",
       "    }\n",
       "</style>\n",
       "<table border=\"1\" class=\"dataframe\">\n",
       "  <thead>\n",
       "    <tr style=\"text-align: right;\">\n",
       "      <th></th>\n",
       "      <th>Date</th>\n",
       "      <th>Open</th>\n",
       "      <th>High</th>\n",
       "      <th>Low</th>\n",
       "      <th>Close</th>\n",
       "      <th>Volume</th>\n",
       "      <th>Name</th>\n",
       "    </tr>\n",
       "  </thead>\n",
       "  <tbody>\n",
       "    <tr>\n",
       "      <th>0</th>\n",
       "      <td>2006-01-03</td>\n",
       "      <td>77.76</td>\n",
       "      <td>79.35</td>\n",
       "      <td>77.24</td>\n",
       "      <td>79.11</td>\n",
       "      <td>3117200</td>\n",
       "      <td>MMM</td>\n",
       "    </tr>\n",
       "    <tr>\n",
       "      <th>1</th>\n",
       "      <td>2006-01-04</td>\n",
       "      <td>79.49</td>\n",
       "      <td>79.49</td>\n",
       "      <td>78.25</td>\n",
       "      <td>78.71</td>\n",
       "      <td>2558000</td>\n",
       "      <td>MMM</td>\n",
       "    </tr>\n",
       "    <tr>\n",
       "      <th>2</th>\n",
       "      <td>2006-01-05</td>\n",
       "      <td>78.41</td>\n",
       "      <td>78.65</td>\n",
       "      <td>77.56</td>\n",
       "      <td>77.99</td>\n",
       "      <td>2529500</td>\n",
       "      <td>MMM</td>\n",
       "    </tr>\n",
       "    <tr>\n",
       "      <th>3</th>\n",
       "      <td>2006-01-06</td>\n",
       "      <td>78.64</td>\n",
       "      <td>78.90</td>\n",
       "      <td>77.64</td>\n",
       "      <td>78.63</td>\n",
       "      <td>2479500</td>\n",
       "      <td>MMM</td>\n",
       "    </tr>\n",
       "    <tr>\n",
       "      <th>4</th>\n",
       "      <td>2006-01-09</td>\n",
       "      <td>78.50</td>\n",
       "      <td>79.83</td>\n",
       "      <td>78.46</td>\n",
       "      <td>79.02</td>\n",
       "      <td>1845600</td>\n",
       "      <td>MMM</td>\n",
       "    </tr>\n",
       "    <tr>\n",
       "      <th>...</th>\n",
       "      <td>...</td>\n",
       "      <td>...</td>\n",
       "      <td>...</td>\n",
       "      <td>...</td>\n",
       "      <td>...</td>\n",
       "      <td>...</td>\n",
       "      <td>...</td>\n",
       "    </tr>\n",
       "    <tr>\n",
       "      <th>93607</th>\n",
       "      <td>2017-12-22</td>\n",
       "      <td>71.42</td>\n",
       "      <td>71.87</td>\n",
       "      <td>71.22</td>\n",
       "      <td>71.58</td>\n",
       "      <td>10979165</td>\n",
       "      <td>AABA</td>\n",
       "    </tr>\n",
       "    <tr>\n",
       "      <th>93608</th>\n",
       "      <td>2017-12-26</td>\n",
       "      <td>70.94</td>\n",
       "      <td>71.39</td>\n",
       "      <td>69.63</td>\n",
       "      <td>69.86</td>\n",
       "      <td>8542802</td>\n",
       "      <td>AABA</td>\n",
       "    </tr>\n",
       "    <tr>\n",
       "      <th>93609</th>\n",
       "      <td>2017-12-27</td>\n",
       "      <td>69.77</td>\n",
       "      <td>70.49</td>\n",
       "      <td>69.69</td>\n",
       "      <td>70.06</td>\n",
       "      <td>6345124</td>\n",
       "      <td>AABA</td>\n",
       "    </tr>\n",
       "    <tr>\n",
       "      <th>93610</th>\n",
       "      <td>2017-12-28</td>\n",
       "      <td>70.12</td>\n",
       "      <td>70.32</td>\n",
       "      <td>69.51</td>\n",
       "      <td>69.82</td>\n",
       "      <td>7556877</td>\n",
       "      <td>AABA</td>\n",
       "    </tr>\n",
       "    <tr>\n",
       "      <th>93611</th>\n",
       "      <td>2017-12-29</td>\n",
       "      <td>69.79</td>\n",
       "      <td>70.13</td>\n",
       "      <td>69.43</td>\n",
       "      <td>69.85</td>\n",
       "      <td>6613070</td>\n",
       "      <td>AABA</td>\n",
       "    </tr>\n",
       "  </tbody>\n",
       "</table>\n",
       "<p>93612 rows × 7 columns</p>\n",
       "</div>"
      ],
      "text/plain": [
       "             Date   Open   High    Low  Close    Volume  Name\n",
       "0      2006-01-03  77.76  79.35  77.24  79.11   3117200   MMM\n",
       "1      2006-01-04  79.49  79.49  78.25  78.71   2558000   MMM\n",
       "2      2006-01-05  78.41  78.65  77.56  77.99   2529500   MMM\n",
       "3      2006-01-06  78.64  78.90  77.64  78.63   2479500   MMM\n",
       "4      2006-01-09  78.50  79.83  78.46  79.02   1845600   MMM\n",
       "...           ...    ...    ...    ...    ...       ...   ...\n",
       "93607  2017-12-22  71.42  71.87  71.22  71.58  10979165  AABA\n",
       "93608  2017-12-26  70.94  71.39  69.63  69.86   8542802  AABA\n",
       "93609  2017-12-27  69.77  70.49  69.69  70.06   6345124  AABA\n",
       "93610  2017-12-28  70.12  70.32  69.51  69.82   7556877  AABA\n",
       "93611  2017-12-29  69.79  70.13  69.43  69.85   6613070  AABA\n",
       "\n",
       "[93612 rows x 7 columns]"
      ]
     },
     "execution_count": 20,
     "metadata": {},
     "output_type": "execute_result"
    }
   ],
   "source": [
    "df"
   ]
  },
  {
   "cell_type": "markdown",
   "metadata": {},
   "source": [
    "## Classic EDA"
   ]
  },
  {
   "cell_type": "markdown",
   "metadata": {},
   "source": [
    "### Show dataframe"
   ]
  },
  {
   "cell_type": "code",
   "execution_count": 21,
   "metadata": {},
   "outputs": [
    {
     "data": {
      "text/html": [
       "<div>\n",
       "<style scoped>\n",
       "    .dataframe tbody tr th:only-of-type {\n",
       "        vertical-align: middle;\n",
       "    }\n",
       "\n",
       "    .dataframe tbody tr th {\n",
       "        vertical-align: top;\n",
       "    }\n",
       "\n",
       "    .dataframe thead th {\n",
       "        text-align: right;\n",
       "    }\n",
       "</style>\n",
       "<table border=\"1\" class=\"dataframe\">\n",
       "  <thead>\n",
       "    <tr style=\"text-align: right;\">\n",
       "      <th></th>\n",
       "      <th>Open</th>\n",
       "      <th>High</th>\n",
       "      <th>Low</th>\n",
       "      <th>Close</th>\n",
       "      <th>Volume</th>\n",
       "    </tr>\n",
       "  </thead>\n",
       "  <tbody>\n",
       "    <tr>\n",
       "      <th>count</th>\n",
       "      <td>93587.000000</td>\n",
       "      <td>93602.000000</td>\n",
       "      <td>93592.000000</td>\n",
       "      <td>93612.000000</td>\n",
       "      <td>9.361200e+04</td>\n",
       "    </tr>\n",
       "    <tr>\n",
       "      <th>mean</th>\n",
       "      <td>85.623260</td>\n",
       "      <td>86.387045</td>\n",
       "      <td>84.836664</td>\n",
       "      <td>85.641753</td>\n",
       "      <td>2.015667e+07</td>\n",
       "    </tr>\n",
       "    <tr>\n",
       "      <th>std</th>\n",
       "      <td>108.151723</td>\n",
       "      <td>108.956365</td>\n",
       "      <td>107.225361</td>\n",
       "      <td>108.121106</td>\n",
       "      <td>3.442108e+07</td>\n",
       "    </tr>\n",
       "    <tr>\n",
       "      <th>min</th>\n",
       "      <td>6.750000</td>\n",
       "      <td>7.170000</td>\n",
       "      <td>0.000000</td>\n",
       "      <td>6.660000</td>\n",
       "      <td>0.000000e+00</td>\n",
       "    </tr>\n",
       "    <tr>\n",
       "      <th>25%</th>\n",
       "      <td>33.950000</td>\n",
       "      <td>34.290000</td>\n",
       "      <td>33.600000</td>\n",
       "      <td>33.960000</td>\n",
       "      <td>5.040180e+06</td>\n",
       "    </tr>\n",
       "    <tr>\n",
       "      <th>50%</th>\n",
       "      <td>60.040000</td>\n",
       "      <td>60.630000</td>\n",
       "      <td>59.490000</td>\n",
       "      <td>60.050000</td>\n",
       "      <td>9.701142e+06</td>\n",
       "    </tr>\n",
       "    <tr>\n",
       "      <th>75%</th>\n",
       "      <td>94.000000</td>\n",
       "      <td>94.740000</td>\n",
       "      <td>93.250000</td>\n",
       "      <td>94.012500</td>\n",
       "      <td>2.075222e+07</td>\n",
       "    </tr>\n",
       "    <tr>\n",
       "      <th>max</th>\n",
       "      <td>1204.880000</td>\n",
       "      <td>1213.410000</td>\n",
       "      <td>1191.150000</td>\n",
       "      <td>1195.830000</td>\n",
       "      <td>8.432640e+08</td>\n",
       "    </tr>\n",
       "  </tbody>\n",
       "</table>\n",
       "</div>"
      ],
      "text/plain": [
       "               Open          High           Low         Close        Volume\n",
       "count  93587.000000  93602.000000  93592.000000  93612.000000  9.361200e+04\n",
       "mean      85.623260     86.387045     84.836664     85.641753  2.015667e+07\n",
       "std      108.151723    108.956365    107.225361    108.121106  3.442108e+07\n",
       "min        6.750000      7.170000      0.000000      6.660000  0.000000e+00\n",
       "25%       33.950000     34.290000     33.600000     33.960000  5.040180e+06\n",
       "50%       60.040000     60.630000     59.490000     60.050000  9.701142e+06\n",
       "75%       94.000000     94.740000     93.250000     94.012500  2.075222e+07\n",
       "max     1204.880000   1213.410000   1191.150000   1195.830000  8.432640e+08"
      ]
     },
     "execution_count": 21,
     "metadata": {},
     "output_type": "execute_result"
    }
   ],
   "source": [
    "df.describe()"
   ]
  },
  {
   "cell_type": "code",
   "execution_count": 22,
   "metadata": {},
   "outputs": [
    {
     "name": "stdout",
     "output_type": "stream",
     "text": [
      "<class 'pandas.core.frame.DataFrame'>\n",
      "RangeIndex: 93612 entries, 0 to 93611\n",
      "Data columns (total 7 columns):\n",
      " #   Column  Non-Null Count  Dtype  \n",
      "---  ------  --------------  -----  \n",
      " 0   Date    93612 non-null  object \n",
      " 1   Open    93587 non-null  float64\n",
      " 2   High    93602 non-null  float64\n",
      " 3   Low     93592 non-null  float64\n",
      " 4   Close   93612 non-null  float64\n",
      " 5   Volume  93612 non-null  int64  \n",
      " 6   Name    93612 non-null  object \n",
      "dtypes: float64(4), int64(1), object(2)\n",
      "memory usage: 5.0+ MB\n"
     ]
    }
   ],
   "source": [
    "df.info()"
   ]
  },
  {
   "cell_type": "code",
   "execution_count": 23,
   "metadata": {},
   "outputs": [
    {
     "data": {
      "text/html": [
       "<div>\n",
       "<style scoped>\n",
       "    .dataframe tbody tr th:only-of-type {\n",
       "        vertical-align: middle;\n",
       "    }\n",
       "\n",
       "    .dataframe tbody tr th {\n",
       "        vertical-align: top;\n",
       "    }\n",
       "\n",
       "    .dataframe thead th {\n",
       "        text-align: right;\n",
       "    }\n",
       "</style>\n",
       "<table border=\"1\" class=\"dataframe\">\n",
       "  <thead>\n",
       "    <tr style=\"text-align: right;\">\n",
       "      <th></th>\n",
       "      <th>Date</th>\n",
       "      <th>Open</th>\n",
       "      <th>High</th>\n",
       "      <th>Low</th>\n",
       "      <th>Close</th>\n",
       "      <th>Volume</th>\n",
       "      <th>Name</th>\n",
       "    </tr>\n",
       "  </thead>\n",
       "  <tbody>\n",
       "    <tr>\n",
       "      <th>0</th>\n",
       "      <td>2006-01-03</td>\n",
       "      <td>77.76</td>\n",
       "      <td>79.35</td>\n",
       "      <td>77.24</td>\n",
       "      <td>79.11</td>\n",
       "      <td>3117200</td>\n",
       "      <td>MMM</td>\n",
       "    </tr>\n",
       "    <tr>\n",
       "      <th>1</th>\n",
       "      <td>2006-01-04</td>\n",
       "      <td>79.49</td>\n",
       "      <td>79.49</td>\n",
       "      <td>78.25</td>\n",
       "      <td>78.71</td>\n",
       "      <td>2558000</td>\n",
       "      <td>MMM</td>\n",
       "    </tr>\n",
       "    <tr>\n",
       "      <th>2</th>\n",
       "      <td>2006-01-05</td>\n",
       "      <td>78.41</td>\n",
       "      <td>78.65</td>\n",
       "      <td>77.56</td>\n",
       "      <td>77.99</td>\n",
       "      <td>2529500</td>\n",
       "      <td>MMM</td>\n",
       "    </tr>\n",
       "    <tr>\n",
       "      <th>3</th>\n",
       "      <td>2006-01-06</td>\n",
       "      <td>78.64</td>\n",
       "      <td>78.90</td>\n",
       "      <td>77.64</td>\n",
       "      <td>78.63</td>\n",
       "      <td>2479500</td>\n",
       "      <td>MMM</td>\n",
       "    </tr>\n",
       "    <tr>\n",
       "      <th>4</th>\n",
       "      <td>2006-01-09</td>\n",
       "      <td>78.50</td>\n",
       "      <td>79.83</td>\n",
       "      <td>78.46</td>\n",
       "      <td>79.02</td>\n",
       "      <td>1845600</td>\n",
       "      <td>MMM</td>\n",
       "    </tr>\n",
       "  </tbody>\n",
       "</table>\n",
       "</div>"
      ],
      "text/plain": [
       "         Date   Open   High    Low  Close   Volume Name\n",
       "0  2006-01-03  77.76  79.35  77.24  79.11  3117200  MMM\n",
       "1  2006-01-04  79.49  79.49  78.25  78.71  2558000  MMM\n",
       "2  2006-01-05  78.41  78.65  77.56  77.99  2529500  MMM\n",
       "3  2006-01-06  78.64  78.90  77.64  78.63  2479500  MMM\n",
       "4  2006-01-09  78.50  79.83  78.46  79.02  1845600  MMM"
      ]
     },
     "execution_count": 23,
     "metadata": {},
     "output_type": "execute_result"
    }
   ],
   "source": [
    "df.head()"
   ]
  },
  {
   "cell_type": "code",
   "execution_count": 24,
   "metadata": {},
   "outputs": [
    {
     "data": {
      "text/html": [
       "<div>\n",
       "<style scoped>\n",
       "    .dataframe tbody tr th:only-of-type {\n",
       "        vertical-align: middle;\n",
       "    }\n",
       "\n",
       "    .dataframe tbody tr th {\n",
       "        vertical-align: top;\n",
       "    }\n",
       "\n",
       "    .dataframe thead th {\n",
       "        text-align: right;\n",
       "    }\n",
       "</style>\n",
       "<table border=\"1\" class=\"dataframe\">\n",
       "  <thead>\n",
       "    <tr style=\"text-align: right;\">\n",
       "      <th></th>\n",
       "      <th>Date</th>\n",
       "      <th>Open</th>\n",
       "      <th>High</th>\n",
       "      <th>Low</th>\n",
       "      <th>Close</th>\n",
       "      <th>Volume</th>\n",
       "      <th>Name</th>\n",
       "    </tr>\n",
       "  </thead>\n",
       "  <tbody>\n",
       "    <tr>\n",
       "      <th>93607</th>\n",
       "      <td>2017-12-22</td>\n",
       "      <td>71.42</td>\n",
       "      <td>71.87</td>\n",
       "      <td>71.22</td>\n",
       "      <td>71.58</td>\n",
       "      <td>10979165</td>\n",
       "      <td>AABA</td>\n",
       "    </tr>\n",
       "    <tr>\n",
       "      <th>93608</th>\n",
       "      <td>2017-12-26</td>\n",
       "      <td>70.94</td>\n",
       "      <td>71.39</td>\n",
       "      <td>69.63</td>\n",
       "      <td>69.86</td>\n",
       "      <td>8542802</td>\n",
       "      <td>AABA</td>\n",
       "    </tr>\n",
       "    <tr>\n",
       "      <th>93609</th>\n",
       "      <td>2017-12-27</td>\n",
       "      <td>69.77</td>\n",
       "      <td>70.49</td>\n",
       "      <td>69.69</td>\n",
       "      <td>70.06</td>\n",
       "      <td>6345124</td>\n",
       "      <td>AABA</td>\n",
       "    </tr>\n",
       "    <tr>\n",
       "      <th>93610</th>\n",
       "      <td>2017-12-28</td>\n",
       "      <td>70.12</td>\n",
       "      <td>70.32</td>\n",
       "      <td>69.51</td>\n",
       "      <td>69.82</td>\n",
       "      <td>7556877</td>\n",
       "      <td>AABA</td>\n",
       "    </tr>\n",
       "    <tr>\n",
       "      <th>93611</th>\n",
       "      <td>2017-12-29</td>\n",
       "      <td>69.79</td>\n",
       "      <td>70.13</td>\n",
       "      <td>69.43</td>\n",
       "      <td>69.85</td>\n",
       "      <td>6613070</td>\n",
       "      <td>AABA</td>\n",
       "    </tr>\n",
       "  </tbody>\n",
       "</table>\n",
       "</div>"
      ],
      "text/plain": [
       "             Date   Open   High    Low  Close    Volume  Name\n",
       "93607  2017-12-22  71.42  71.87  71.22  71.58  10979165  AABA\n",
       "93608  2017-12-26  70.94  71.39  69.63  69.86   8542802  AABA\n",
       "93609  2017-12-27  69.77  70.49  69.69  70.06   6345124  AABA\n",
       "93610  2017-12-28  70.12  70.32  69.51  69.82   7556877  AABA\n",
       "93611  2017-12-29  69.79  70.13  69.43  69.85   6613070  AABA"
      ]
     },
     "execution_count": 24,
     "metadata": {},
     "output_type": "execute_result"
    }
   ],
   "source": [
    "df.tail(5)"
   ]
  },
  {
   "cell_type": "markdown",
   "metadata": {},
   "source": [
    "### Missing data points"
   ]
  },
  {
   "cell_type": "code",
   "execution_count": 25,
   "metadata": {},
   "outputs": [
    {
     "name": "stdout",
     "output_type": "stream",
     "text": [
      "Dataframe total rows:  93612\n"
     ]
    },
    {
     "data": {
      "text/html": [
       "<div>\n",
       "<style scoped>\n",
       "    .dataframe tbody tr th:only-of-type {\n",
       "        vertical-align: middle;\n",
       "    }\n",
       "\n",
       "    .dataframe tbody tr th {\n",
       "        vertical-align: top;\n",
       "    }\n",
       "\n",
       "    .dataframe thead th {\n",
       "        text-align: right;\n",
       "    }\n",
       "</style>\n",
       "<table border=\"1\" class=\"dataframe\">\n",
       "  <thead>\n",
       "    <tr style=\"text-align: right;\">\n",
       "      <th></th>\n",
       "      <th>Data Type</th>\n",
       "      <th>Example 1</th>\n",
       "      <th>Example 2</th>\n",
       "      <th>Example 3</th>\n",
       "      <th>Total Not Missing</th>\n",
       "      <th>% of not missing values</th>\n",
       "    </tr>\n",
       "  </thead>\n",
       "  <tbody>\n",
       "    <tr>\n",
       "      <th>Date</th>\n",
       "      <td>object</td>\n",
       "      <td>2013-02-04</td>\n",
       "      <td>2009-07-22</td>\n",
       "      <td>2007-11-12</td>\n",
       "      <td>93612</td>\n",
       "      <td>100.0 %</td>\n",
       "    </tr>\n",
       "    <tr>\n",
       "      <th>Open</th>\n",
       "      <td>float64</td>\n",
       "      <td>19.76</td>\n",
       "      <td>65.54</td>\n",
       "      <td>56.28</td>\n",
       "      <td>93587</td>\n",
       "      <td>99.97 %</td>\n",
       "    </tr>\n",
       "    <tr>\n",
       "      <th>High</th>\n",
       "      <td>float64</td>\n",
       "      <td>19.81</td>\n",
       "      <td>66.88</td>\n",
       "      <td>57.75</td>\n",
       "      <td>93602</td>\n",
       "      <td>99.99 %</td>\n",
       "    </tr>\n",
       "    <tr>\n",
       "      <th>Low</th>\n",
       "      <td>float64</td>\n",
       "      <td>19.31</td>\n",
       "      <td>65.4</td>\n",
       "      <td>56.0</td>\n",
       "      <td>93592</td>\n",
       "      <td>99.98 %</td>\n",
       "    </tr>\n",
       "    <tr>\n",
       "      <th>Close</th>\n",
       "      <td>float64</td>\n",
       "      <td>19.34</td>\n",
       "      <td>65.94</td>\n",
       "      <td>56.09</td>\n",
       "      <td>93612</td>\n",
       "      <td>100.0 %</td>\n",
       "    </tr>\n",
       "    <tr>\n",
       "      <th>Volume</th>\n",
       "      <td>int64</td>\n",
       "      <td>23906430</td>\n",
       "      <td>9912842</td>\n",
       "      <td>10770521</td>\n",
       "      <td>93612</td>\n",
       "      <td>100.0 %</td>\n",
       "    </tr>\n",
       "    <tr>\n",
       "      <th>Name</th>\n",
       "      <td>object</td>\n",
       "      <td>AABA</td>\n",
       "      <td>CVX</td>\n",
       "      <td>AXP</td>\n",
       "      <td>93612</td>\n",
       "      <td>100.0 %</td>\n",
       "    </tr>\n",
       "  </tbody>\n",
       "</table>\n",
       "</div>"
      ],
      "text/plain": [
       "       Data Type   Example 1   Example 2   Example 3  Total Not Missing  \\\n",
       "Date      object  2013-02-04  2009-07-22  2007-11-12              93612   \n",
       "Open     float64       19.76       65.54       56.28              93587   \n",
       "High     float64       19.81       66.88       57.75              93602   \n",
       "Low      float64       19.31        65.4        56.0              93592   \n",
       "Close    float64       19.34       65.94       56.09              93612   \n",
       "Volume     int64    23906430     9912842    10770521              93612   \n",
       "Name      object        AABA         CVX         AXP              93612   \n",
       "\n",
       "       % of not missing values  \n",
       "Date                   100.0 %  \n",
       "Open                   99.97 %  \n",
       "High                   99.99 %  \n",
       "Low                    99.98 %  \n",
       "Close                  100.0 %  \n",
       "Volume                 100.0 %  \n",
       "Name                   100.0 %  "
      ]
     },
     "execution_count": 25,
     "metadata": {},
     "output_type": "execute_result"
    }
   ],
   "source": [
    "ex1, ex2, ex3 = random.sample(range(len(df)), 3) #show table with examples and missing values\n",
    "\n",
    "print(\"Dataframe total rows: \", len(df))\n",
    "df_info = pd.DataFrame(data = df.dtypes)\n",
    "not_missing_values_total = df.notnull().sum()\n",
    "not_missing_values_percent = round(not_missing_values_total/len(df)*100,2).astype(str)+\" %\"\n",
    "\n",
    "pd.concat([df_info[0].rename(\"Data Type\"),\\\n",
    "           df.T[ex1].rename(\"Example 1\"),\\\n",
    "           df.T[ex2].rename(\"Example 2\"),\\\n",
    "           df.T[ex3].rename(\"Example 3\"),\\\n",
    "           not_missing_values_total.rename(\"Total Not Missing\"), \\\n",
    "           not_missing_values_percent.rename(\"% of not missing values\")], axis=1)"
   ]
  },
  {
   "cell_type": "code",
   "execution_count": 26,
   "metadata": {},
   "outputs": [
    {
     "data": {
      "text/plain": [
       "Date       0\n",
       "Open      25\n",
       "High      10\n",
       "Low       20\n",
       "Close      0\n",
       "Volume     0\n",
       "Name       0\n",
       "dtype: int64"
      ]
     },
     "execution_count": 26,
     "metadata": {},
     "output_type": "execute_result"
    }
   ],
   "source": [
    "df.isna().sum()\n",
    "df.isnull().sum()"
   ]
  },
  {
   "cell_type": "markdown",
   "metadata": {},
   "source": [
    "### Remove rows with empty spaces"
   ]
  },
  {
   "cell_type": "code",
   "execution_count": 27,
   "metadata": {},
   "outputs": [],
   "source": [
    "sliced_df = df.dropna()"
   ]
  },
  {
   "cell_type": "code",
   "execution_count": 28,
   "metadata": {},
   "outputs": [
    {
     "data": {
      "text/plain": [
       "Date      0\n",
       "Open      0\n",
       "High      0\n",
       "Low       0\n",
       "Close     0\n",
       "Volume    0\n",
       "Name      0\n",
       "dtype: int64"
      ]
     },
     "execution_count": 28,
     "metadata": {},
     "output_type": "execute_result"
    }
   ],
   "source": [
    "sliced_df.isna().sum()"
   ]
  },
  {
   "cell_type": "markdown",
   "metadata": {},
   "source": [
    "### Variable analysis"
   ]
  },
  {
   "cell_type": "markdown",
   "metadata": {},
   "source": [
    "#### Numeric values"
   ]
  },
  {
   "cell_type": "code",
   "execution_count": 30,
   "metadata": {},
   "outputs": [
    {
     "data": {
      "text/html": [
       "<div>\n",
       "<style scoped>\n",
       "    .dataframe tbody tr th:only-of-type {\n",
       "        vertical-align: middle;\n",
       "    }\n",
       "\n",
       "    .dataframe tbody tr th {\n",
       "        vertical-align: top;\n",
       "    }\n",
       "\n",
       "    .dataframe thead th {\n",
       "        text-align: right;\n",
       "    }\n",
       "</style>\n",
       "<table border=\"1\" class=\"dataframe\">\n",
       "  <thead>\n",
       "    <tr style=\"text-align: right;\">\n",
       "      <th></th>\n",
       "      <th>count</th>\n",
       "      <th>mean</th>\n",
       "      <th>std</th>\n",
       "      <th>min</th>\n",
       "      <th>25%</th>\n",
       "      <th>50%</th>\n",
       "      <th>75%</th>\n",
       "      <th>max</th>\n",
       "    </tr>\n",
       "  </thead>\n",
       "  <tbody>\n",
       "    <tr>\n",
       "      <th>Open</th>\n",
       "      <td>93587.0</td>\n",
       "      <td>8.562326e+01</td>\n",
       "      <td>1.081517e+02</td>\n",
       "      <td>6.75</td>\n",
       "      <td>33.95</td>\n",
       "      <td>60.04</td>\n",
       "      <td>94.00</td>\n",
       "      <td>1.204880e+03</td>\n",
       "    </tr>\n",
       "    <tr>\n",
       "      <th>High</th>\n",
       "      <td>93587.0</td>\n",
       "      <td>8.638296e+01</td>\n",
       "      <td>1.089626e+02</td>\n",
       "      <td>7.17</td>\n",
       "      <td>34.29</td>\n",
       "      <td>60.62</td>\n",
       "      <td>94.74</td>\n",
       "      <td>1.213410e+03</td>\n",
       "    </tr>\n",
       "    <tr>\n",
       "      <th>Low</th>\n",
       "      <td>93587.0</td>\n",
       "      <td>8.483648e+01</td>\n",
       "      <td>1.072278e+02</td>\n",
       "      <td>0.00</td>\n",
       "      <td>33.60</td>\n",
       "      <td>59.49</td>\n",
       "      <td>93.25</td>\n",
       "      <td>1.191150e+03</td>\n",
       "    </tr>\n",
       "    <tr>\n",
       "      <th>Close</th>\n",
       "      <td>93587.0</td>\n",
       "      <td>8.563497e+01</td>\n",
       "      <td>1.081306e+02</td>\n",
       "      <td>6.66</td>\n",
       "      <td>33.95</td>\n",
       "      <td>60.04</td>\n",
       "      <td>94.00</td>\n",
       "      <td>1.195830e+03</td>\n",
       "    </tr>\n",
       "    <tr>\n",
       "      <th>Volume</th>\n",
       "      <td>93587.0</td>\n",
       "      <td>2.015982e+07</td>\n",
       "      <td>3.442490e+07</td>\n",
       "      <td>87083.00</td>\n",
       "      <td>5040876.50</td>\n",
       "      <td>9702410.00</td>\n",
       "      <td>20753857.00</td>\n",
       "      <td>8.432640e+08</td>\n",
       "    </tr>\n",
       "  </tbody>\n",
       "</table>\n",
       "</div>"
      ],
      "text/plain": [
       "          count          mean           std       min         25%         50%  \\\n",
       "Open    93587.0  8.562326e+01  1.081517e+02      6.75       33.95       60.04   \n",
       "High    93587.0  8.638296e+01  1.089626e+02      7.17       34.29       60.62   \n",
       "Low     93587.0  8.483648e+01  1.072278e+02      0.00       33.60       59.49   \n",
       "Close   93587.0  8.563497e+01  1.081306e+02      6.66       33.95       60.04   \n",
       "Volume  93587.0  2.015982e+07  3.442490e+07  87083.00  5040876.50  9702410.00   \n",
       "\n",
       "                75%           max  \n",
       "Open          94.00  1.204880e+03  \n",
       "High          94.74  1.213410e+03  \n",
       "Low           93.25  1.191150e+03  \n",
       "Close         94.00  1.195830e+03  \n",
       "Volume  20753857.00  8.432640e+08  "
      ]
     },
     "execution_count": 30,
     "metadata": {},
     "output_type": "execute_result"
    }
   ],
   "source": [
    "NUMERICS = ('int16', 'int32', 'int64', 'float16', 'float32', 'float64') #numeric variables\n",
    "sliced_df.select_dtypes(include = NUMERICS).describe().T"
   ]
  },
  {
   "cell_type": "markdown",
   "metadata": {},
   "source": [
    "#### Categorical values"
   ]
  },
  {
   "cell_type": "code",
   "execution_count": 36,
   "metadata": {},
   "outputs": [
    {
     "data": {
      "text/html": [
       "<div>\n",
       "<style scoped>\n",
       "    .dataframe tbody tr th:only-of-type {\n",
       "        vertical-align: middle;\n",
       "    }\n",
       "\n",
       "    .dataframe tbody tr th {\n",
       "        vertical-align: top;\n",
       "    }\n",
       "\n",
       "    .dataframe thead th {\n",
       "        text-align: right;\n",
       "    }\n",
       "</style>\n",
       "<table border=\"1\" class=\"dataframe\">\n",
       "  <thead>\n",
       "    <tr style=\"text-align: right;\">\n",
       "      <th></th>\n",
       "      <th>count</th>\n",
       "      <th>unique</th>\n",
       "      <th>top</th>\n",
       "      <th>freq</th>\n",
       "    </tr>\n",
       "  </thead>\n",
       "  <tbody>\n",
       "    <tr>\n",
       "      <th>Name</th>\n",
       "      <td>93587</td>\n",
       "      <td>31</td>\n",
       "      <td>MMM</td>\n",
       "      <td>3019</td>\n",
       "    </tr>\n",
       "  </tbody>\n",
       "</table>\n",
       "</div>"
      ],
      "text/plain": [
       "      count unique  top  freq\n",
       "Name  93587     31  MMM  3019"
      ]
     },
     "execution_count": 36,
     "metadata": {},
     "output_type": "execute_result"
    }
   ],
   "source": [
    "sliced_df.select_dtypes(include ='object').describe(include = 'O').T #categorical variables"
   ]
  },
  {
   "cell_type": "markdown",
   "metadata": {},
   "source": [
    "### Data type correction"
   ]
  },
  {
   "cell_type": "code",
   "execution_count": 31,
   "metadata": {},
   "outputs": [
    {
     "name": "stdout",
     "output_type": "stream",
     "text": [
      "<class 'pandas.core.frame.DataFrame'>\n",
      "Int64Index: 93587 entries, 0 to 93611\n",
      "Data columns (total 7 columns):\n",
      " #   Column  Non-Null Count  Dtype  \n",
      "---  ------  --------------  -----  \n",
      " 0   Date    93587 non-null  object \n",
      " 1   Open    93587 non-null  float64\n",
      " 2   High    93587 non-null  float64\n",
      " 3   Low     93587 non-null  float64\n",
      " 4   Close   93587 non-null  float64\n",
      " 5   Volume  93587 non-null  int64  \n",
      " 6   Name    93587 non-null  object \n",
      "dtypes: float64(4), int64(1), object(2)\n",
      "memory usage: 5.7+ MB\n"
     ]
    }
   ],
   "source": [
    "sliced_df.info()"
   ]
  },
  {
   "cell_type": "markdown",
   "metadata": {},
   "source": [
    "After analyzing the data types, I conclude that Column with name Date must be changed to a datetime related data type."
   ]
  },
  {
   "cell_type": "code",
   "execution_count": 34,
   "metadata": {},
   "outputs": [
    {
     "name": "stdout",
     "output_type": "stream",
     "text": [
      "<class 'pandas.core.frame.DataFrame'>\n",
      "Int64Index: 93587 entries, 0 to 93611\n",
      "Data columns (total 7 columns):\n",
      " #   Column  Non-Null Count  Dtype         \n",
      "---  ------  --------------  -----         \n",
      " 0   Date    93587 non-null  datetime64[ns]\n",
      " 1   Open    93587 non-null  float64       \n",
      " 2   High    93587 non-null  float64       \n",
      " 3   Low     93587 non-null  float64       \n",
      " 4   Close   93587 non-null  float64       \n",
      " 5   Volume  93587 non-null  int64         \n",
      " 6   Name    93587 non-null  object        \n",
      "dtypes: datetime64[ns](1), float64(4), int64(1), object(1)\n",
      "memory usage: 5.7+ MB\n"
     ]
    },
    {
     "name": "stderr",
     "output_type": "stream",
     "text": [
      "/var/folders/y8/qhfg8gqj5879lp1sc_jj0sn40000gn/T/ipykernel_7858/3183153275.py:1: SettingWithCopyWarning: \n",
      "A value is trying to be set on a copy of a slice from a DataFrame.\n",
      "Try using .loc[row_indexer,col_indexer] = value instead\n",
      "\n",
      "See the caveats in the documentation: https://pandas.pydata.org/pandas-docs/stable/user_guide/indexing.html#returning-a-view-versus-a-copy\n",
      "  sliced_df[\"Date\"] = pd.to_datetime(sliced_df[\"Date\"])\n"
     ]
    }
   ],
   "source": [
    "sliced_df[\"Date\"] = pd.to_datetime(sliced_df[\"Date\"])\n",
    "sliced_df.info()"
   ]
  },
  {
   "cell_type": "markdown",
   "metadata": {},
   "source": [
    "### Value Understanding"
   ]
  },
  {
   "cell_type": "code",
   "execution_count": 39,
   "metadata": {},
   "outputs": [
    {
     "data": {
      "image/png": "[encoded data removed]",
      "text/plain": [
       "<Figure size 1224x576 with 1 Axes>"
      ]
     },
     "metadata": {
      "needs_background": "light"
     },
     "output_type": "display_data"
    }
   ],
   "source": [
    "plt.figure(figsize=(17, 8))\n",
    "plt.scatter(sliced_df['Date'],sliced_df['Close'])\n",
    "plt.title('Date vs Closing Value')\n",
    "plt.ylabel('($)')\n",
    "plt.xlabel('Day')\n",
    "plt.grid(False)\n",
    "plt.show()"
   ]
  },
  {
   "cell_type": "markdown",
   "metadata": {},
   "source": [
    "As you may see, the results of this graphic cant be concluded, as all stocks are plotted. In the statistical eda will be developing a bulk viz to visualize each stock by its behavior."
   ]
  },
  {
   "cell_type": "markdown",
   "metadata": {},
   "source": [
    "## Statiscal EDA"
   ]
  },
  {
   "cell_type": "markdown",
   "metadata": {},
   "source": [
    "### Bulk Viz"
   ]
  },
  {
   "cell_type": "code",
   "execution_count": 41,
   "metadata": {},
   "outputs": [],
   "source": [
    "def viz(sliced_df,varList):\n",
    "    pdf = PdfPages('../stock_forecasting/Visualizations_PDF/BulkViz.pdf')\n",
    "    for var in varList:\n",
    "        graphDF = df.groupby(['Date',\"Name\"])[var].sum().unstack().reset_index()\n",
    "        graphDF = graphDF.set_index('Date')\n",
    "        for col in graphDF.columns[1::]:\n",
    "            fig, (ax1, ax2, ax3)  = plt.subplots(1, 3, sharey='row',figsize=(20, 4)) #viz formatting\n",
    "\n",
    "            graphDF[col].plot(kind='line',ax=ax1) #line time series\n",
    "            ax1.set_title('Serie')\n",
    "            \n",
    "            graphDF[col].plot(kind='box',ax=ax2) #boxplot\n",
    "            ax2.set_title('Boxplot')\n",
    "            \n",
    "            graphDF[col].plot(kind='hist',ax=ax3) #hist\n",
    "            ax3.set_title('Hist')\n",
    "\n",
    "            fig.suptitle(col+' / '+var)\n",
    "            pdf.savefig(fig, bbox_inches='tight')\n",
    "            plt.close(fig) #optimize ram usage\n",
    "    pdf.close()"
   ]
  },
  {
   "cell_type": "code",
   "execution_count": 42,
   "metadata": {},
   "outputs": [],
   "source": [
    "cols = [\"Open\",\"High\",\"Low\",\"Close\",\"Volume\"] #numeric columns\n",
    "viz(sliced_df,cols)"
   ]
  },
  {
   "cell_type": "markdown",
   "metadata": {},
   "source": [
    "As I quickly analyzed the [BulkViz](../stock_forecasting/Visualizations_PDF/BulkViz.pdf) file, I found that the AMZN stock may be interesting to analize more thoroughly cause it shows several outliers in every numeric column within that stock name."
   ]
  },
  {
   "cell_type": "markdown",
   "metadata": {},
   "source": [
    "## TimeSeries Analysis"
   ]
  },
  {
   "cell_type": "code",
   "execution_count": null,
   "metadata": {},
   "outputs": [],
   "source": [
    "#code implementation"
   ]
  }
 ],
 "metadata": {
  "kernelspec": {
   "display_name": "Python 3.10.4 ('applied_data_science_env': venv)",
   "language": "python",
   "name": "python3"
  },
  "language_info": {
   "codemirror_mode": {
    "name": "ipython",
    "version": 3
   },
   "file_extension": ".py",
   "mimetype": "text/x-python",
   "name": "python",
   "nbconvert_exporter": "python",
   "pygments_lexer": "ipython3",
   "version": "3.10.4"
  },
  "orig_nbformat": 4,
  "vscode": {
   "interpreter": {
    "hash": "5bcb3cac2fe230382768c3d27588b070a235797597ee788317d6ed4549d8e7e2"
   }
  }
 },
 "nbformat": 4,
 "nbformat_minor": 2
}
