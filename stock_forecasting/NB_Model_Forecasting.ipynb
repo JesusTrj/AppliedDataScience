{
 "cells": [
  {
   "cell_type": "markdown",
   "metadata": {},
   "source": [
    "# Model Forecasting"
   ]
  },
  {
   "cell_type": "markdown",
   "metadata": {},
   "source": [
    "## Requirements"
   ]
  },
  {
   "cell_type": "code",
   "execution_count": 16,
   "metadata": {},
   "outputs": [],
   "source": [
    "#import necesary libraries\n",
    "import pandas as pd\n",
    "import os\n",
    "import pickle\n",
    "import gc\n",
    "\n",
    "import matplotlib.pyplot as plt \n",
    "\n",
    "from matplotlib.backends.backend_pdf import PdfPages\n",
    "\n",
    "\n",
    "from utils import load, slicer"
   ]
  },
  {
   "cell_type": "markdown",
   "metadata": {},
   "source": [
    "## Data Load"
   ]
  },
  {
   "cell_type": "code",
   "execution_count": 17,
   "metadata": {},
   "outputs": [],
   "source": [
    "df, resample_df = load()"
   ]
  },
  {
   "cell_type": "markdown",
   "metadata": {},
   "source": [
    "## ARIMA Update & Forecasting"
   ]
  },
  {
   "cell_type": "code",
   "execution_count": 18,
   "metadata": {},
   "outputs": [
    {
     "name": "stdout",
     "output_type": "stream",
     "text": [
      "Forecasting for: MMM_autoARIMA_Model.pkl ( 1 / 31 )\n",
      "\n",
      "Forecasting for: AABA_autoARIMA_Model.pkl ( 2 / 31 )\n",
      "\n",
      "Forecasting for: DIS_autoARIMA_Model.pkl ( 3 / 31 )\n",
      "\n",
      "Forecasting for: UTX_autoARIMA_Model.pkl ( 4 / 31 )\n",
      "\n",
      "Forecasting for: XOM_autoARIMA_Model.pkl ( 5 / 31 )\n",
      "\n",
      "Forecasting for: AMZN_autoARIMA_Model.pkl ( 6 / 31 )\n",
      "\n",
      "Forecasting for: TRV_autoARIMA_Model.pkl ( 7 / 31 )\n",
      "\n",
      "Forecasting for: GS_autoARIMA_Model.pkl ( 8 / 31 )\n",
      "\n",
      "Forecasting for: AXP_autoARIMA_Model.pkl ( 9 / 31 )\n",
      "\n",
      "Forecasting for: IBM_autoARIMA_Model.pkl ( 10 / 31 )\n",
      "\n",
      "Forecasting for: UNH_autoARIMA_Model.pkl ( 11 / 31 )\n",
      "\n",
      "Forecasting for: WMT_autoARIMA_Model.pkl ( 12 / 31 )\n",
      "\n",
      "Forecasting for: PFE_autoARIMA_Model.pkl ( 13 / 31 )\n",
      "\n",
      "Forecasting for: NKE_autoARIMA_Model.pkl ( 14 / 31 )\n",
      "\n",
      "Forecasting for: CSCO_autoARIMA_Model.pkl ( 15 / 31 )\n",
      "\n",
      "Forecasting for: CAT_autoARIMA_Model.pkl ( 16 / 31 )\n",
      "\n",
      "Forecasting for: INTC_autoARIMA_Model.pkl ( 17 / 31 )\n",
      "\n",
      "Forecasting for: BA_autoARIMA_Model.pkl ( 18 / 31 )\n",
      "\n",
      "Forecasting for: JPM_autoARIMA_Model.pkl ( 19 / 31 )\n",
      "\n",
      "Forecasting for: MRK_autoARIMA_Model.pkl ( 20 / 31 )\n",
      "\n",
      "Forecasting for: PG_autoARIMA_Model.pkl ( 21 / 31 )\n",
      "\n",
      "Forecasting for: AAPL_autoARIMA_Model.pkl ( 22 / 31 )\n",
      "\n",
      "Forecasting for: VZ_autoARIMA_Model.pkl ( 23 / 31 )\n",
      "\n",
      "Forecasting for: JNJ_autoARIMA_Model.pkl ( 24 / 31 )\n",
      "\n",
      "Forecasting for: GE_autoARIMA_Model.pkl ( 25 / 31 )\n",
      "\n",
      "Forecasting for: KO_autoARIMA_Model.pkl ( 26 / 31 )\n",
      "\n",
      "Forecasting for: GOOGL_autoARIMA_Model.pkl ( 27 / 31 )\n",
      "\n",
      "Forecasting for: CVX_autoARIMA_Model.pkl ( 28 / 31 )\n",
      "\n",
      "Forecasting for: HD_autoARIMA_Model.pkl ( 29 / 31 )\n",
      "\n",
      "Forecasting for: MSFT_autoARIMA_Model.pkl ( 30 / 31 )\n",
      "\n",
      "Forecasting for: MCD_autoARIMA_Model.pkl ( 31 / 31 )\n",
      "\n"
     ]
    }
   ],
   "source": [
    "#accesing .pkl files\n",
    "route = '../stock_forecasting/AutoARIMA_Models/PKL/'\n",
    "directory = os.fsencode(route)\n",
    "pdf = PdfPages('../stock_forecasting/AutoARIMA_Models/Forecast/viz.pdf')\n",
    "\n",
    "window = 15 #number of days to forecast\n",
    "cont = 0\n",
    "\n",
    "for file in os.listdir(directory): #for cycle to iterate over folder\n",
    "   filename = os.fsdecode(file) #get file name\n",
    "   if filename.endswith(\".pkl\"): #if ends with .pkl\n",
    "      cont+=1\n",
    "      print('Forecasting for:',filename,'(',cont,'/ 31 )') #FLAG\n",
    "\n",
    "      try: #Splitting\n",
    "         x = filename.split(\"_\")\n",
    "         x = x[0]\n",
    "         df_train, df_val, df_test = slicer(resample_df[(resample_df['Name']==x)])\n",
    "         \n",
    "         with open((route+filename).replace(\" \",\"\"), 'rb') as f: #load model\n",
    "            model = pickle.load(f)\n",
    "      except:\n",
    "         print('Error in model import: ',x)\n",
    "\n",
    "      try: #Updating model with new data\n",
    "         model.update(df_val['Close'])# LOAD DF WITH NEW DATES\n",
    "         model.update(df_test['Close']) \n",
    "         \n",
    "      except:\n",
    "         print('Error in model update:',x)\n",
    "         pass\n",
    "\n",
    "      try: #forecasting\n",
    "         forecast = model.predict(n_periods=window,return_conf_int=True)\n",
    "         forecast_range = pd.date_range(start=df_test.index[-1] + pd.Timedelta('1 day'),periods=window,freq='D')\n",
    "         forecast_df = pd.DataFrame(forecast[0],index=forecast_range,columns=['Prediction'])\n",
    "      except:\n",
    "         print('Error in model forecasting:',x)\n",
    "         pass\n",
    "      print('')\n",
    "\n",
    "      try: #plotting\n",
    "         pastDF = resample_df[(resample_df['Name']==x)]['Close'].asfreq('D').to_frame()\n",
    "\n",
    "         fig, ax = plt.subplots(figsize=(15, 8))\n",
    "         pastDF.dropna(inplace=True)\n",
    "         pastDF.tail(90).plot(ax=ax, label='Close', linewidth=1)\n",
    "         forecast_df.plot(ax=ax, label='Forecast', linewidth=1)\n",
    "         ax.set_title(x+ ' - Close')\n",
    "         ax.legend();\n",
    "\n",
    "\n",
    "         pdf.savefig(fig, bbox_inches='tight')\n",
    "         plt.close(fig) #optimize ram usage\n",
    "         #fig.data = [] #optimize ram usage\n",
    "         \n",
    "      except:\n",
    "         print('Error in forecast plotting:',x)\n",
    "         pass\n",
    "\n",
    "   gc.collect()\n",
    "\n",
    "pdf.close()"
   ]
  }
 ],
 "metadata": {
  "kernelspec": {
   "display_name": "Python 3.8.10 ('applied_data_science_env': venv)",
   "language": "python",
   "name": "python3"
  },
  "language_info": {
   "codemirror_mode": {
    "name": "ipython",
    "version": 3
   },
   "file_extension": ".py",
   "mimetype": "text/x-python",
   "name": "python",
   "nbconvert_exporter": "python",
   "pygments_lexer": "ipython3",
   "version": "3.8.10"
  },
  "orig_nbformat": 4,
  "vscode": {
   "interpreter": {
    "hash": "124f61e2a059f51bd2e13cec988713f4bbb93ceae5bfc7744d0561f3162f332b"
   }
  }
 },
 "nbformat": 4,
 "nbformat_minor": 2
}
