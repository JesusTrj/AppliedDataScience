{
 "cells": [
  {
   "cell_type": "markdown",
   "metadata": {},
   "source": [
    "# Model Forecasting"
   ]
  },
  {
   "cell_type": "markdown",
   "metadata": {},
   "source": [
    "## Requirements"
   ]
  },
  {
   "cell_type": "code",
   "execution_count": 9,
   "metadata": {},
   "outputs": [],
   "source": [
    "#import necesary libraries\n",
    "import pandas as pd\n",
    "import os\n",
    "import pickle\n",
    "import gc\n",
    "from matplotlib.backends.backend_pdf import PdfPages\n",
    "\n",
    "import matplotlib.pyplot as plt \n",
    "import plotly.express as px\n",
    "from plotly.subplots import make_subplots\n",
    "import plotly.graph_objects as go\n",
    "import seaborn as sns\n",
    "import plotly.io as pio\n",
    "\n",
    "from utils import load"
   ]
  },
  {
   "cell_type": "markdown",
   "metadata": {},
   "source": [
    "## Data Load"
   ]
  },
  {
   "cell_type": "code",
   "execution_count": 10,
   "metadata": {},
   "outputs": [],
   "source": [
    "df, resample_df = load()"
   ]
  },
  {
   "cell_type": "markdown",
   "metadata": {},
   "source": [
    "## ARIMA Update & Forecasting"
   ]
  },
  {
   "cell_type": "code",
   "execution_count": 19,
   "metadata": {},
   "outputs": [
    {
     "name": "stdout",
     "output_type": "stream",
     "text": [
      "Forecasting for: MMM_autoARIMA_Model.pkl ( 1 / 31 )\n",
      "MMM\n",
      "\n",
      "Forecasting for: AABA_autoARIMA_Model.pkl ( 2 / 31 )\n",
      "AABA\n",
      "\n",
      "Forecasting for: DIS_autoARIMA_Model.pkl ( 3 / 31 )\n",
      "DIS\n",
      "\n",
      "Forecasting for: UTX_autoARIMA_Model.pkl ( 4 / 31 )\n",
      "UTX\n",
      "\n",
      "Forecasting for: XOM_autoARIMA_Model.pkl ( 5 / 31 )\n",
      "XOM\n",
      "\n",
      "Forecasting for: AMZN_autoARIMA_Model.pkl ( 6 / 31 )\n",
      "AMZN\n",
      "\n",
      "Forecasting for: TRV_autoARIMA_Model.pkl ( 7 / 31 )\n",
      "TRV\n",
      "\n",
      "Forecasting for: GS_autoARIMA_Model.pkl ( 8 / 31 )\n",
      "GS\n",
      "\n",
      "Forecasting for: AXP_autoARIMA_Model.pkl ( 9 / 31 )\n",
      "AXP\n",
      "\n",
      "Forecasting for: IBM_autoARIMA_Model.pkl ( 10 / 31 )\n",
      "IBM\n",
      "\n",
      "Forecasting for: UNH_autoARIMA_Model.pkl ( 11 / 31 )\n",
      "UNH\n",
      "\n",
      "Forecasting for: WMT_autoARIMA_Model.pkl ( 12 / 31 )\n",
      "WMT\n",
      "\n",
      "Forecasting for: PFE_autoARIMA_Model.pkl ( 13 / 31 )\n",
      "PFE\n",
      "\n",
      "Forecasting for: NKE_autoARIMA_Model.pkl ( 14 / 31 )\n",
      "NKE\n",
      "\n",
      "Forecasting for: CSCO_autoARIMA_Model.pkl ( 15 / 31 )\n",
      "CSCO\n",
      "\n",
      "Forecasting for: CAT_autoARIMA_Model.pkl ( 16 / 31 )\n",
      "CAT\n",
      "\n",
      "Forecasting for: INTC_autoARIMA_Model.pkl ( 17 / 31 )\n",
      "INTC\n",
      "\n",
      "Forecasting for: BA_autoARIMA_Model.pkl ( 18 / 31 )\n",
      "BA\n",
      "\n",
      "Forecasting for: JPM_autoARIMA_Model.pkl ( 19 / 31 )\n",
      "JPM\n",
      "\n",
      "Forecasting for: MRK_autoARIMA_Model.pkl ( 20 / 31 )\n",
      "MRK\n",
      "\n",
      "Forecasting for: PG_autoARIMA_Model.pkl ( 21 / 31 )\n",
      "PG\n",
      "\n",
      "Forecasting for: AAPL_autoARIMA_Model.pkl ( 22 / 31 )\n",
      "AAPL\n",
      "\n",
      "Forecasting for: VZ_autoARIMA_Model.pkl ( 23 / 31 )\n",
      "VZ\n",
      "\n",
      "Forecasting for: JNJ_autoARIMA_Model.pkl ( 24 / 31 )\n",
      "JNJ\n",
      "\n",
      "Forecasting for: GE_autoARIMA_Model.pkl ( 25 / 31 )\n",
      "GE\n",
      "\n",
      "Forecasting for: KO_autoARIMA_Model.pkl ( 26 / 31 )\n",
      "KO\n",
      "\n",
      "Forecasting for: GOOGL_autoARIMA_Model.pkl ( 27 / 31 )\n",
      "GOOGL\n",
      "\n",
      "Forecasting for: CVX_autoARIMA_Model.pkl ( 28 / 31 )\n",
      "CVX\n",
      "\n",
      "Forecasting for: HD_autoARIMA_Model.pkl ( 29 / 31 )\n",
      "HD\n",
      "\n",
      "Forecasting for: MSFT_autoARIMA_Model.pkl ( 30 / 31 )\n",
      "MSFT\n",
      "\n",
      "Forecasting for: MCD_autoARIMA_Model.pkl ( 31 / 31 )\n",
      "MCD\n",
      "\n"
     ]
    }
   ],
   "source": [
    "#for cycle to iterate over folder\n",
    "    #if ends with .pkl\n",
    "        #load model\n",
    "        #update model\n",
    "        #forecast\n",
    "        #plot\n",
    "\n",
    "#accesing .pkl files\n",
    "route = '../stock_forecasting/AutoARIMA_Models/PKL/'\n",
    "directory = os.fsencode(route)\n",
    "pdf = PdfPages('../stock_forecasting/AutoARIMA_Models/Forecast/viz.pdf')\n",
    "\n",
    "window = 8 #number of days to forecast\n",
    "cont = 0\n",
    "\n",
    "for file in os.listdir(directory): #for cycle to iterate over folder\n",
    "   filename = os.fsdecode(file) #get file name\n",
    "   if filename.endswith(\".pkl\"): #if ends with .pkl\n",
    "      cont+=1\n",
    "      print('Forecasting for:',filename,'(',cont,'/ 31 )') #FLAG\n",
    "      \n",
    "      with open((route+filename).replace(\" \",\"\"), 'rb') as f: #load model\n",
    "         model = pickle.load(f)\n",
    "\n",
    "      x = filename.split(\"_\") #use this snippet to solve df slicer function... look for NB_EDA...\n",
    "      print(x[0])\n",
    "      print('')\n",
    "\n",
    "      #model.update()# LOAD DF WITH NEW DATES \n",
    "\n",
    "      '''\n",
    "      fig, ax = plt.subplots(figsize=(15, 8))\n",
    "      ax.set_title(hotel + ' - ' + target)\n",
    "      df[(df['vn_name']==hotel)][target].asfreq('D').tail(last_window).plot() \n",
    "      data.predict(steps = last_window, last_window = df[(df['vn_name']==hotel)][target].asfreq('D').tail(last_window)).plot(ax=ax)\n",
    "      pdf.savefig(fig, bbox_inches='tight')\n",
    "      plt.close(fig) #optimize ram usage\n",
    "pdf.close()\n",
    "'''"
   ]
  }
 ],
 "metadata": {
  "kernelspec": {
   "display_name": "Python 3.8.10 ('applied_data_science_env': venv)",
   "language": "python",
   "name": "python3"
  },
  "language_info": {
   "codemirror_mode": {
    "name": "ipython",
    "version": 3
   },
   "file_extension": ".py",
   "mimetype": "text/x-python",
   "name": "python",
   "nbconvert_exporter": "python",
   "pygments_lexer": "ipython3",
   "version": "3.8.10"
  },
  "orig_nbformat": 4,
  "vscode": {
   "interpreter": {
    "hash": "124f61e2a059f51bd2e13cec988713f4bbb93ceae5bfc7744d0561f3162f332b"
   }
  }
 },
 "nbformat": 4,
 "nbformat_minor": 2
}
