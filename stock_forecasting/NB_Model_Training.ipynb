{
 "cells": [
  {
   "cell_type": "markdown",
   "metadata": {},
   "source": [
    "# Model Training"
   ]
  },
  {
   "cell_type": "markdown",
   "metadata": {},
   "source": [
    "## Requirements"
   ]
  },
  {
   "cell_type": "code",
   "execution_count": 6,
   "metadata": {},
   "outputs": [],
   "source": [
    "## Load requirements\n",
    "import pandas as pd\n",
    "from statsmodels.tsa.arima.model import ARIMA\n",
    "import statsmodels.api as sm\n",
    "import plotly\n",
    "import gc\n",
    "import pickle\n",
    "import matplotlib.pyplot as plt \n",
    "\n",
    "from typing import Tuple\n",
    "from datetime import timedelta, datetime"
   ]
  },
  {
   "cell_type": "markdown",
   "metadata": {},
   "source": [
    "## Utilities"
   ]
  },
  {
   "cell_type": "code",
   "execution_count": 7,
   "metadata": {},
   "outputs": [],
   "source": [
    "def slicer(df:pd.DataFrame) -> Tuple[pd.DataFrame, ...]:\n",
    "    \"\"\"\n",
    "    Generates timeseries slicing for training\n",
    "    \"\"\"\n",
    "    startDate = df.index.min()\n",
    "    endDate = df.index.max()\n",
    "\n",
    "    percTrain = .7 #porcentaje del subset\n",
    "    percVal = .2\n",
    "    percTest = .1\n",
    "\n",
    "    difDate = (endDate - startDate).days\n",
    "\n",
    "    startTest = endDate - timedelta(days = difDate*percTest)\n",
    "    startVal = startTest - timedelta(days = difDate*percVal)\n",
    "\n",
    "    df_train = df[df.index < startVal]#.set_index('bd_business_date')\n",
    "    df_val = df[(df.index > startVal) & (df.index < startTest) ]#.set_index('bd_business_date')\n",
    "    df_test = df[df.index > startTest]#.set_index('bd_business_date')\n",
    "\n",
    "    return (df_train, df_val, df_test)"
   ]
  },
  {
   "cell_type": "markdown",
   "metadata": {},
   "source": [
    "## Data Load"
   ]
  },
  {
   "cell_type": "code",
   "execution_count": 4,
   "metadata": {},
   "outputs": [],
   "source": [
    "csv_path = \"../stock_forecasting/stock_data/Compiled/all_stocks_2006-01-01_to_2018-01-01.csv\"\n",
    "df = pd.read_csv(csv_path)"
   ]
  },
  {
   "cell_type": "markdown",
   "metadata": {},
   "source": [
    "## Model Training"
   ]
  },
  {
   "cell_type": "code",
   "execution_count": 3,
   "metadata": {},
   "outputs": [],
   "source": [
    "## refactor code\n",
    "\n",
    "## ciclo for por stock name\n",
    "    #model training\n",
    "    #model fitting\n",
    "    #append score\n",
    "    #export model to .pkl (pickle.dump)\n",
    "    \n",
    "    #incorporar try: except: pass\n",
    "\n"
   ]
  }
 ],
 "metadata": {
  "kernelspec": {
   "display_name": "Python 3.10.4 ('applied_data_science_env': venv)",
   "language": "python",
   "name": "python3"
  },
  "language_info": {
   "codemirror_mode": {
    "name": "ipython",
    "version": 3
   },
   "file_extension": ".py",
   "mimetype": "text/x-python",
   "name": "python",
   "nbconvert_exporter": "python",
   "pygments_lexer": "ipython3",
   "version": "3.10.4"
  },
  "orig_nbformat": 4,
  "vscode": {
   "interpreter": {
    "hash": "5bcb3cac2fe230382768c3d27588b070a235797597ee788317d6ed4549d8e7e2"
   }
  }
 },
 "nbformat": 4,
 "nbformat_minor": 2
}
