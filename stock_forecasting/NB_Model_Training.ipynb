{
 "cells": [
  {
   "cell_type": "markdown",
   "metadata": {},
   "source": [
    "# Model Training"
   ]
  },
  {
   "cell_type": "markdown",
   "metadata": {},
   "source": [
    "## Requirements"
   ]
  },
  {
   "cell_type": "code",
   "execution_count": 1,
   "metadata": {},
   "outputs": [],
   "source": [
    "## Load requirements\n",
    "import pandas as pd\n",
    "import plotly\n",
    "import gc\n",
    "import pickle\n",
    "import matplotlib.pyplot as plt \n",
    "\n",
    "from typing import Tuple\n",
    "from datetime import timedelta, datetime\n",
    "\n",
    "from statsmodels.tsa.arima.model import ARIMA\n",
    "import statsmodels.api as sm\n",
    "import pmdarima as pm\n",
    "\n",
    "from utils import load, slicer\n",
    "\n",
    "from sklearn.metrics import r2_score"
   ]
  },
  {
   "cell_type": "markdown",
   "metadata": {},
   "source": [
    "## Data Load"
   ]
  },
  {
   "cell_type": "code",
   "execution_count": 2,
   "metadata": {},
   "outputs": [],
   "source": [
    "df, resample_df = load()"
   ]
  },
  {
   "cell_type": "markdown",
   "metadata": {},
   "source": [
    "## Model Training"
   ]
  },
  {
   "cell_type": "markdown",
   "metadata": {},
   "source": [
    "### ARIMA (Auto ARIMA)"
   ]
  },
  {
   "cell_type": "code",
   "execution_count": null,
   "metadata": {},
   "outputs": [],
   "source": [
    "## iterations over stock name in DF\n",
    "for stock in df[\"Name\"].unique():\n",
    "    #initialize model\n",
    "    try: \n",
    "        model = pm.auto_arima(resample_df[(resample_df['Name']==stock)].drop(columns=[\"Name\"])['Close'], \n",
    "                            m=12, seasonal=True,\n",
    "                        start_p=0, start_q=0, max_order=4, test='adf',error_action='ignore',  \n",
    "                            suppress_warnings=True,\n",
    "                        stepwise=True, trace=True)\n",
    "    except:\n",
    "        print(\"Error in model initialization: \", stock)\n",
    "        pass\n",
    "\n",
    "    #Splitting\n",
    "    try:\n",
    "        df_train, df_val, df_test = slicer(resample_df[(resample_df['Name']==stock)])\n",
    "    except:\n",
    "        print(\"Error in splitting: \",stock)\n",
    "        pass\n",
    "\n",
    "    #model training & fitting\n",
    "    try: \n",
    "        model.fit(df_train['Close'])\n",
    "    except:\n",
    "        print(\"Error in model fitting: \",stock)\n",
    "        pass\n",
    "    \n",
    "    #append score... Work in progress\n",
    "    try:\n",
    "        #pending\n",
    "        prediction = model.predict(n_periods = 8,return_conf_int=True)\n",
    "    except:\n",
    "        print(\"Error in predict\")\n",
    "        pass\n",
    "\n",
    "    try:\n",
    "        pred_df = pd.DataFrame(prediction)\n",
    "        print(pred_df)\n",
    "        #pred_df.columns = [\"predicted_Close\"]\n",
    "    except:\n",
    "        print(\"Error in to DF\")\n",
    "\n",
    "    try:\n",
    "        print(r2_score(df_test[\"Close\"].tail(8),pred_df[\"predicted_Close\"]))\n",
    "    except:\n",
    "        print(\"Error in model score export: \",stock)\n",
    "        pass\n",
    "    \n",
    "    #export model to .pkl (pickle.dump)\n",
    "    try: \n",
    "        file_name = (f'../stock_forecasting/AutoARIMA_Models/PKL/{stock}_autoARIMA_')\n",
    "        # save\n",
    "        pickle.dump(model, open(file_name + 'Model.pkl', \"wb\"))\n",
    "    except:\n",
    "        print(\"Error in model export: \",stock)\n",
    "        pass\n",
    "\n",
    "    gc.collect() #RAM usage optimization\n",
    "\n"
   ]
  }
 ],
 "metadata": {
  "kernelspec": {
   "display_name": "Python 3.10.4 ('applied_data_science_env': venv)",
   "language": "python",
   "name": "python3"
  },
  "language_info": {
   "codemirror_mode": {
    "name": "ipython",
    "version": 3
   },
   "file_extension": ".py",
   "mimetype": "text/x-python",
   "name": "python",
   "nbconvert_exporter": "python",
   "pygments_lexer": "ipython3",
   "version": "3.10.4"
  },
  "orig_nbformat": 4,
  "vscode": {
   "interpreter": {
    "hash": "5bcb3cac2fe230382768c3d27588b070a235797597ee788317d6ed4549d8e7e2"
   }
  }
 },
 "nbformat": 4,
 "nbformat_minor": 2
}
