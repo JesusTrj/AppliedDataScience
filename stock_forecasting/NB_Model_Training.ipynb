{
 "cells": [
  {
   "cell_type": "markdown",
   "metadata": {},
   "source": [
    "# Model Training"
   ]
  },
  {
   "cell_type": "markdown",
   "metadata": {},
   "source": [
    "## Requirements"
   ]
  },
  {
   "cell_type": "code",
   "execution_count": 1,
   "metadata": {},
   "outputs": [],
   "source": [
    "## Load requirements\n",
    "import pandas as pd\n",
    "import plotly\n",
    "import gc\n",
    "import pickle\n",
    "import matplotlib.pyplot as plt \n",
    "\n",
    "from typing import Tuple\n",
    "from datetime import timedelta, datetime\n",
    "\n",
    "from statsmodels.tsa.arima.model import ARIMA\n",
    "import statsmodels.api as sm\n",
    "import pmdarima as pm\n",
    "\n",
    "from utils import load, slicer\n",
    "\n",
    "from sklearn.metrics import r2_score"
   ]
  },
  {
   "cell_type": "markdown",
   "metadata": {},
   "source": [
    "## Data Load"
   ]
  },
  {
   "cell_type": "code",
   "execution_count": 2,
   "metadata": {},
   "outputs": [],
   "source": [
    "df, resample_df = load()"
   ]
  },
  {
   "cell_type": "markdown",
   "metadata": {},
   "source": [
    "## Model Training"
   ]
  },
  {
   "cell_type": "markdown",
   "metadata": {},
   "source": [
    "### ARIMA (Auto ARIMA)"
   ]
  },
  {
   "cell_type": "code",
   "execution_count": 3,
   "metadata": {},
   "outputs": [
    {
     "name": "stdout",
     "output_type": "stream",
     "text": [
      "Initializing processess for:  MMM\n",
      "Performing stepwise search to minimize aic\n",
      " ARIMA(0,1,0)(1,0,1)[12] intercept   : AIC=10187.664, Time=3.52 sec\n",
      " ARIMA(0,1,0)(0,0,0)[12] intercept   : AIC=10186.388, Time=0.08 sec\n",
      " ARIMA(1,1,0)(1,0,0)[12] intercept   : AIC=10184.481, Time=0.73 sec\n",
      " ARIMA(0,1,1)(0,0,1)[12] intercept   : AIC=10184.546, Time=1.28 sec\n",
      " ARIMA(0,1,0)(0,0,0)[12]             : AIC=10189.121, Time=0.07 sec\n",
      " ARIMA(1,1,0)(0,0,0)[12] intercept   : AIC=10182.507, Time=0.11 sec\n",
      " ARIMA(1,1,0)(0,0,1)[12] intercept   : AIC=10184.479, Time=1.04 sec\n",
      " ARIMA(1,1,0)(1,0,1)[12] intercept   : AIC=10183.787, Time=4.54 sec\n",
      " ARIMA(2,1,0)(0,0,0)[12] intercept   : AIC=10184.458, Time=0.26 sec\n",
      " ARIMA(1,1,1)(0,0,0)[12] intercept   : AIC=10184.485, Time=0.22 sec\n",
      " ARIMA(0,1,1)(0,0,0)[12] intercept   : AIC=10182.575, Time=0.14 sec\n",
      " ARIMA(2,1,1)(0,0,0)[12] intercept   : AIC=10186.367, Time=1.07 sec\n",
      " ARIMA(1,1,0)(0,0,0)[12]             : AIC=10185.671, Time=0.05 sec\n",
      "\n",
      "Best model:  ARIMA(1,1,0)(0,0,0)[12] intercept\n",
      "Total fit time: 13.185 seconds\n",
      "Initializing processess for:  AXP\n",
      "Performing stepwise search to minimize aic\n",
      " ARIMA(0,1,0)(1,0,1)[12] intercept   : AIC=8337.167, Time=3.01 sec\n",
      " ARIMA(0,1,0)(0,0,0)[12] intercept   : AIC=8334.049, Time=0.26 sec\n",
      " ARIMA(1,1,0)(1,0,0)[12] intercept   : AIC=8326.369, Time=1.08 sec\n",
      " ARIMA(0,1,1)(0,0,1)[12] intercept   : AIC=8326.103, Time=1.61 sec\n",
      " ARIMA(0,1,0)(0,0,0)[12]             : AIC=8332.831, Time=0.05 sec\n",
      " ARIMA(0,1,1)(0,0,0)[12] intercept   : AIC=8324.816, Time=0.22 sec\n",
      " ARIMA(0,1,1)(1,0,0)[12] intercept   : AIC=8326.101, Time=1.34 sec\n",
      "Error in model initialization:  AXP\n",
      "Initializing processess for:  AAPL\n",
      "Performing stepwise search to minimize aic\n",
      " ARIMA(0,1,0)(1,0,1)[12] intercept   : AIC=inf, Time=5.19 sec\n",
      " ARIMA(0,1,0)(0,0,0)[12] intercept   : AIC=9493.705, Time=0.08 sec\n",
      " ARIMA(1,1,0)(1,0,0)[12] intercept   : AIC=9495.772, Time=1.04 sec\n",
      " ARIMA(0,1,1)(0,0,1)[12] intercept   : AIC=9495.709, Time=1.59 sec\n",
      " ARIMA(0,1,0)(0,0,0)[12]             : AIC=9497.829, Time=0.07 sec\n",
      " ARIMA(0,1,0)(1,0,0)[12] intercept   : AIC=9495.309, Time=0.78 sec\n",
      " ARIMA(0,1,0)(0,0,1)[12] intercept   : AIC=9495.330, Time=0.88 sec\n",
      " ARIMA(1,1,0)(0,0,0)[12] intercept   : AIC=9494.150, Time=0.18 sec\n",
      " ARIMA(0,1,1)(0,0,0)[12] intercept   : AIC=9494.064, Time=0.21 sec\n",
      " ARIMA(1,1,1)(0,0,0)[12] intercept   : AIC=9495.546, Time=0.47 sec\n",
      "\n",
      "Best model:  ARIMA(0,1,0)(0,0,0)[12] intercept\n",
      "Total fit time: 10.534 seconds\n",
      "Initializing processess for:  BA\n",
      "Performing stepwise search to minimize aic\n"
     ]
    }
   ],
   "source": [
    "## iterations over stock name in DF\n",
    "for stock in df[\"Name\"].unique():\n",
    "    print(\"\\nInitializing processess for: \", stock)\n",
    "    #initialize model\n",
    "    try: \n",
    "        model = pm.auto_arima(resample_df[(resample_df['Name']==stock)].drop(columns=[\"Name\"])['Close'], \n",
    "                            m=12, seasonal=True,\n",
    "                        start_p=0, start_q=0, max_order=4, test='adf',error_action='ignore',  \n",
    "                            suppress_warnings=True,\n",
    "                        stepwise=True, trace=True)\n",
    "    except:\n",
    "        print(\"Error in model initialization: \", stock)\n",
    "        pass\n",
    "\n",
    "    #Splitting\n",
    "    try:\n",
    "        df_train, df_val, df_test = slicer(resample_df[(resample_df['Name']==stock)])\n",
    "    except:\n",
    "        print(\"Error in splitting: \",stock)\n",
    "        pass\n",
    "\n",
    "    #model training & fitting\n",
    "    try: \n",
    "        model.fit(df_train['Close'])\n",
    "    except:\n",
    "        print(\"Error in model fitting: \",stock)\n",
    "        pass\n",
    "    \n",
    "    #export model to .pkl (pickle.dump)\n",
    "    try: \n",
    "        file_name = (f'../stock_forecasting/AutoARIMA_Models/PKL/{stock}_autoARIMA_')\n",
    "        # save\n",
    "        pickle.dump(model, open(file_name + 'Model.pkl', \"wb\"))\n",
    "    except:\n",
    "        print(\"Error in model export: \",stock)\n",
    "        pass\n",
    "\n",
    "    gc.collect() #RAM usage optimization"
   ]
  }
 ],
 "metadata": {
  "kernelspec": {
   "display_name": "Python 3.8.10 ('applied_data_science_env': venv)",
   "language": "python",
   "name": "python3"
  },
  "language_info": {
   "codemirror_mode": {
    "name": "ipython",
    "version": 3
   },
   "file_extension": ".py",
   "mimetype": "text/x-python",
   "name": "python",
   "nbconvert_exporter": "python",
   "pygments_lexer": "ipython3",
   "version": "3.8.10"
  },
  "orig_nbformat": 4,
  "vscode": {
   "interpreter": {
    "hash": "124f61e2a059f51bd2e13cec988713f4bbb93ceae5bfc7744d0561f3162f332b"
   }
  }
 },
 "nbformat": 4,
 "nbformat_minor": 2
}
